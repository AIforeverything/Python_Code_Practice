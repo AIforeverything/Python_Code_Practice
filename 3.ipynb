{
 "cells": [
  {
   "cell_type": "code",
   "execution_count": 1,
   "id": "b15d5fdd-cab8-470c-8414-6be9ce1eff36",
   "metadata": {},
   "outputs": [
    {
     "data": {
      "text/plain": [
       "16"
      ]
     },
     "execution_count": 1,
     "metadata": {},
     "output_type": "execute_result"
    }
   ],
   "source": [
    "# Q1: Write a Python program to sum all the items in a list.\n",
    "def sumOflist(list1):\n",
    "    sum=0\n",
    "    for i in list1:\n",
    "        sum=sum+i\n",
    "    return sum\n",
    "list=[1,3,5,7]\n",
    "sumOflist(list)"
   ]
  },
  {
   "cell_type": "code",
   "execution_count": 2,
   "id": "39fe4bcb-1a5e-4045-9dec-df2671c778c3",
   "metadata": {},
   "outputs": [
    {
     "data": {
      "text/plain": [
       "0"
      ]
     },
     "execution_count": 2,
     "metadata": {},
     "output_type": "execute_result"
    }
   ],
   "source": [
    "#Q2: Write a Python program to get the largest number from a list.\n",
    "def largestlist(list1):\n",
    "    largest=list1[0]\n",
    "    for i in range(len(list1)):\n",
    "        if (largest<list1[i]):\n",
    "            largest=list1[i]\n",
    "    return largest\n",
    "list=[-5,-9,-5,-7,0]\n",
    "largestlist(list)"
   ]
  },
  {
   "cell_type": "code",
   "execution_count": 3,
   "id": "5c7d4e53-5bd1-4684-8466-2041e85e95d4",
   "metadata": {},
   "outputs": [
    {
     "data": {
      "text/plain": [
       "-9"
      ]
     },
     "execution_count": 3,
     "metadata": {},
     "output_type": "execute_result"
    }
   ],
   "source": [
    "# Q3: Write a Python program to get the smallest number from a list.\n",
    "def smallestlist(list1):\n",
    "    smallest=list1[0]\n",
    "    for i in range(len(list1)):\n",
    "        if (smallest>list1[i]):\n",
    "            smallest=list1[i]\n",
    "    return smallest\n",
    "list=[-5,-9,-5,-7,0]\n",
    "smallestlist(list)"
   ]
  },
  {
   "cell_type": "code",
   "execution_count": 4,
   "id": "982f8237-6b64-454e-bfe5-878d331e1d62",
   "metadata": {},
   "outputs": [
    {
     "name": "stdout",
     "output_type": "stream",
     "text": [
      "Red Black\n"
     ]
    }
   ],
   "source": [
    "# Q4: Write a Python program to display the first and last colors from the following list.\n",
    "def first_last(list):\n",
    "    print(list[0],list[len(list)-1])\n",
    "    \n",
    "color_list = [\"Red\",\"Green\",\"White\" ,\"Black\"]\n",
    "first_last(color_list)"
   ]
  },
  {
   "cell_type": "code",
   "execution_count": 5,
   "id": "09d7315c-a48e-4ffa-bbca-b59871155792",
   "metadata": {},
   "outputs": [
    {
     "name": "stdin",
     "output_type": "stream",
     "text": [
      "Enter year:  2024\n"
     ]
    },
    {
     "name": "stdout",
     "output_type": "stream",
     "text": [
      "2024 is a leap year\n"
     ]
    }
   ],
   "source": [
    "# Q5: Write a Python program to check if the input year is a leap year or not.\n",
    "def leapyear(year):\n",
    "    if(year%400==0 and year%100==0 ):\n",
    "        print(f\"{year} is a leap year\")\n",
    "    elif(year%4==0 and year%100!=0):\n",
    "        print(f\"{year} is a leap year\") \n",
    "    else:\n",
    "        print(f\"{year} is not a leap year\")\n",
    "y=int(input(\"Enter year: \"))\n",
    "leapyear(y)"
   ]
  },
  {
   "cell_type": "code",
   "execution_count": 6,
   "id": "f09cb517-8ac5-4359-b773-2ea5239ec192",
   "metadata": {},
   "outputs": [
    {
     "name": "stdin",
     "output_type": "stream",
     "text": [
      "Enter string:  radar\n"
     ]
    },
    {
     "name": "stdout",
     "output_type": "stream",
     "text": [
      "reverse of entered string  radar is radar\n",
      "so radar is palindrome\n"
     ]
    }
   ],
   "source": [
    "# Q6: write a Program to check if a string is palindrome or not\n",
    "def palindrome(s):\n",
    "    reverse=s[: :-1]\n",
    "    print(f\"reverse of entered string  {s} is {reverse}\")\n",
    "    if(s==reverse):\n",
    "        print(f\"so {s} is palindrome\")\n",
    "    else:\n",
    "        print(f\"so {s} is not palindrome\")\n",
    "string=input(\"Enter string: \")\n",
    "palindrome(string)"
   ]
  },
  {
   "cell_type": "code",
   "execution_count": 7,
   "id": "68c7ab64-9701-480f-89c6-e15c5caff338",
   "metadata": {},
   "outputs": [
    {
     "data": {
      "text/plain": [
       "['a', 'b', ['c', ['d', 'e', ['f', 'g', 'h', 'i', 'j'], 'k'], 'l'], 'm', 'n']"
      ]
     },
     "execution_count": 7,
     "metadata": {},
     "output_type": "execute_result"
    }
   ],
   "source": [
    "# Q7: Given a nested list. Write a python program to extend it with adding sub list [\"h\", \"i\", \"j\"] in a such a way that it will look like the following list\n",
    "# Given List:\n",
    "# list1 = [\"a\", \"b\", [\"c\", [\"d\", \"e\", [\"f\", \"g\"], \"k\"], \"l\"], \"m\", \"n\"]\n",
    "# Sub List to be added = [\"h\", \"i\", \"j\"]\n",
    "# Expected output:\n",
    "# ['a', 'b', ['c', ['d', 'e', ['f', 'g', 'h', 'i', 'j'], 'k'], 'l'], 'm', 'n']\n",
    "\n",
    "list1 = [\"a\", \"b\", [\"c\", [\"d\", \"e\", [\"f\", \"g\"], \"k\"], \"l\"], \"m\", \"n\"]\n",
    "Sublist= [\"h\", \"i\", \"j\"]\n",
    "list1[2][1][2].extend(Sublist)\n",
    "list1"
   ]
  },
  {
   "cell_type": "code",
   "execution_count": 8,
   "id": "aae80db4-4a01-43d2-8fd4-9564d38ecfd7",
   "metadata": {},
   "outputs": [
    {
     "data": {
      "text/plain": [
       "[5, 10, 15, 200, 25, 50, 20]"
      ]
     },
     "execution_count": 8,
     "metadata": {},
     "output_type": "execute_result"
    }
   ],
   "source": [
    "# Q8: Write a python program for Given a Python list, to find value 20 in the list, and if it is present, replace it with 200. Only update the first occurrence of a value\n",
    "list1 = [5, 10, 15, 20, 25, 50, 20]\n",
    "# Expected output:\n",
    "# list1 = [5, 10, 15, 200, 25, 50, 20]\n",
    "list1[list1.index(20)]=200\n",
    "list1"
   ]
  },
  {
   "cell_type": "code",
   "execution_count": 57,
   "id": "22e419c2-2a64-42f6-b6d9-0cd30903b1e2",
   "metadata": {},
   "outputs": [
    {
     "name": "stdout",
     "output_type": "stream",
     "text": [
      "[40, 50, 10, 20, 30]\n"
     ]
    }
   ],
   "source": [
    "# Q9: Rotate a List Right by N Positions. Given a list L1= [10, 20, 30, 40, 50] and an integer n=2, rotate L1 to the right by n positions.\n",
    "# Expected output:  L1= [40, 50, 10, 20, 30]\n",
    "L1= [10, 20, 30, 40, 50]\n",
    "n = 2\n",
    "difference=len(L1)-n\n",
    "L1 = (L1[difference:len(L1)] + L1[0:difference])\n",
    "print(L1)\n"
   ]
  },
  {
   "cell_type": "code",
   "execution_count": 59,
   "id": "c3939e39-6f3e-4adb-a123-1b8d5884b989",
   "metadata": {},
   "outputs": [],
   "source": [
    "def rightRotate(list,n):\n",
    "    difference=len(list)-n\n",
    "    list=list[difference:len(list)]+list[0:difference]\n",
    "    print(list)"
   ]
  },
  {
   "cell_type": "code",
   "execution_count": 65,
   "id": "07d63234-6e66-4fb5-85c8-b26b00be8413",
   "metadata": {},
   "outputs": [
    {
     "name": "stdout",
     "output_type": "stream",
     "text": [
      "[40, 50, 10, 20, 30]\n"
     ]
    }
   ],
   "source": [
    "L1= [10, 20, 30, 40, 50] \n",
    "rightRotate(L1,2)"
   ]
  },
  {
   "cell_type": "code",
   "execution_count": null,
   "id": "f9c56b2d-396f-48a0-88fa-b2515e36e07e",
   "metadata": {},
   "outputs": [],
   "source": []
  }
 ],
 "metadata": {
  "kernelspec": {
   "display_name": "Python 3 (ipykernel)",
   "language": "python",
   "name": "python3"
  },
  "language_info": {
   "codemirror_mode": {
    "name": "ipython",
    "version": 3
   },
   "file_extension": ".py",
   "mimetype": "text/x-python",
   "name": "python",
   "nbconvert_exporter": "python",
   "pygments_lexer": "ipython3",
   "version": "3.12.6"
  }
 },
 "nbformat": 4,
 "nbformat_minor": 5
}
