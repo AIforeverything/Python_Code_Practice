{
 "cells": [
  {
   "cell_type": "code",
   "execution_count": 1,
   "id": "6cbd5646-bd7f-498f-a79e-99a65c59a116",
   "metadata": {},
   "outputs": [
    {
     "data": {
      "text/plain": [
       "' \\'cdac\\' \"noida\" '"
      ]
     },
     "execution_count": 1,
     "metadata": {},
     "output_type": "execute_result"
    }
   ],
   "source": [
    "# Create a string containing both a single quote and  double quote\n",
    "st= \"\"\" 'cdac' \"noida\" \"\"\"\n",
    "st"
   ]
  },
  {
   "cell_type": "code",
   "execution_count": 2,
   "id": "07f1215a-661f-4148-bd6b-cf07bd2df58c",
   "metadata": {},
   "outputs": [
    {
     "name": "stdout",
     "output_type": "stream",
     "text": [
      "65\n"
     ]
    }
   ],
   "source": [
    "# 3.Create a character, then obtain its integer representation. \n",
    "def repInt(c):\n",
    "    print(ord(c))\n",
    "repInt(\"A\")    "
   ]
  },
  {
   "cell_type": "code",
   "execution_count": 3,
   "id": "533b9223-d2c5-4daa-b7f1-9ecc7f844612",
   "metadata": {
    "scrolled": true
   },
   "outputs": [
    {
     "name": "stdin",
     "output_type": "stream",
     "text": [
      "Enter string:  abc\n"
     ]
    },
    {
     "name": "stdout",
     "output_type": "stream",
     "text": [
      "abc\n",
      "abc\n",
      "abc\n",
      "abc\n",
      "abc\n"
     ]
    }
   ],
   "source": [
    "# 4.Create a single string containing 5 copies of the string 'abc'. \n",
    "def fiveCopies(s):\n",
    "    for i in range(5):\n",
    "        print(s)\n",
    "str=input(\"Enter string: \")\n",
    "fiveCopies(str)"
   ]
  },
  {
   "cell_type": "code",
   "execution_count": 4,
   "id": "ff6a62a7-8e73-47ce-a9a0-f97cf0b6110f",
   "metadata": {},
   "outputs": [
    {
     "name": "stdout",
     "output_type": "stream",
     "text": [
      "--------------------------------------------------\n"
     ]
    }
   ],
   "source": [
    "def fiftydashes():\n",
    "    print('-'*50)\n",
    "fiftydashes()    "
   ]
  },
  {
   "cell_type": "code",
   "execution_count": 5,
   "id": "7cb3910e-3c7c-489d-a29d-59da4071b5ea",
   "metadata": {},
   "outputs": [
    {
     "name": "stdin",
     "output_type": "stream",
     "text": [
      "Enter string:  om\n"
     ]
    },
    {
     "name": "stdout",
     "output_type": "stream",
     "text": [
      "OM\n"
     ]
    }
   ],
   "source": [
    "def upperconvert(s):\n",
    "    print(s.upper())\n",
    "s=input(\"Enter string: \") \n",
    "upperconvert(s)"
   ]
  },
  {
   "cell_type": "code",
   "execution_count": 6,
   "id": "fcc75884-44f1-44a2-beb8-87e88869e025",
   "metadata": {},
   "outputs": [
    {
     "name": "stdin",
     "output_type": "stream",
     "text": [
      "Enter string:  omsud\n"
     ]
    },
    {
     "name": "stdout",
     "output_type": "stream",
     "text": [
      "omud\n"
     ]
    }
   ],
   "source": [
    "# Q7 : Write a Python program to get a string made of the first 2 and the last 2 chars from a given a string.\n",
    "def first2last2(s):\n",
    "    print(s[:2]+s[-2:])\n",
    "s=input(\"Enter string: \") \n",
    "first2last2(s)"
   ]
  },
  {
   "cell_type": "code",
   "execution_count": 7,
   "id": "bdeaa55a-b270-4724-9271-92600945c3ed",
   "metadata": {},
   "outputs": [
    {
     "name": "stdin",
     "output_type": "stream",
     "text": [
      "Enter string:  restart\n",
      "Enter value to be replaced:  r\n"
     ]
    },
    {
     "name": "stdout",
     "output_type": "stream",
     "text": [
      "resta$t\n"
     ]
    }
   ],
   "source": [
    "# Q8: a Python program to get a string from a given string where all occurrences of its first char have been changed to '$', except the first char itself.\n",
    "# Sample String : 'restart'\n",
    "# Expected Result : 'resta$t'\n",
    "def replacingString(s,s1):\n",
    "    s1=\"restart\"\n",
    "    s1=s[0]+s[1:].replace(s[0],\"$\")\n",
    "    print(s1)\n",
    "s=input(\"Enter string: \")   \n",
    "s1=input(\"Enter value to be replaced: \") \n",
    "replacingString(s,s1)"
   ]
  },
  {
   "cell_type": "code",
   "execution_count": 10,
   "id": "97b113e5-6362-4e57-b090-893a7f09e987",
   "metadata": {},
   "outputs": [
    {
     "name": "stdin",
     "output_type": "stream",
     "text": [
      "Enter string1:  abc\n",
      "Enter string2:  xyz\n"
     ]
    },
    {
     "name": "stdout",
     "output_type": "stream",
     "text": [
      "Result of two strings: xyc abz\n"
     ]
    }
   ],
   "source": [
    "# Q9: Write a Python program to get a single string from two given strings, separated by a space and swap the first two characters of each string.\n",
    "# Sample String : 'abc', 'xyz' \n",
    "# Expected Result : 'xyc abz'\n",
    "def swapAndChange(s1,s2):\n",
    "    s3=s2[:2]+s1[-1]+\" \"+s1[:2]+s2[-1]\n",
    "    print(f\"Result of two strings: \"+ s3)\n",
    "s1=input(\"Enter string1: \")   \n",
    "s2=input(\"Enter string2: \")   \n",
    "swapAndChange(s1,s2)"
   ]
  },
  {
   "cell_type": "code",
   "execution_count": 11,
   "id": "46363b43-9e05-4174-ac8b-c7b102ffb2c1",
   "metadata": {},
   "outputs": [
    {
     "name": "stdin",
     "output_type": "stream",
     "text": [
      "Enter string1:  string\n"
     ]
    },
    {
     "data": {
      "text/plain": [
       "'stringly'"
      ]
     },
     "execution_count": 11,
     "metadata": {},
     "output_type": "execute_result"
    }
   ],
   "source": [
    "# Q10: Write a Python program to add 'ing' at the end of a given string (length should be at least 3). \n",
    "# If the given string is already ends with 'ing' then add 'ly' instead.\n",
    "s1=input(\"Enter string1: \")\n",
    "if(s1[len(s1)-3:]==\"ing\"):\n",
    "        s1=s1+\"ly\"\n",
    "elif(len(s1)>=3):\n",
    "         s1=s1+\"ing\"\n",
    "else:\n",
    "    print(\"Length should be at least 3\") \n",
    "s1"
   ]
  },
  {
   "cell_type": "code",
   "execution_count": 12,
   "id": "cf1b2438-b0b0-463d-96f3-a11ccae6cd18",
   "metadata": {},
   "outputs": [
    {
     "name": "stdout",
     "output_type": "stream",
     "text": [
      "maximum marks per subject is 100.\n"
     ]
    },
    {
     "name": "stdin",
     "output_type": "stream",
     "text": [
      "Enter subject1 marks:  25\n",
      "Enter subject1 marks:  35\n",
      "Enter subject1 marks:  75\n",
      "Enter subject1 marks:  85\n",
      "Enter subject1 marks:  94\n"
     ]
    },
    {
     "name": "stdout",
     "output_type": "stream",
     "text": [
      "You got 62.8 %\n",
      "Congratulation! you got First Division\n"
     ]
    }
   ],
   "source": [
    "# Q11: The marks obtained by a student in 5 different Subjects are input through a keyboard. The Student gets a division as per the following rules.\n",
    "# 1.\tPercentage above or equal to 60 – First Division\n",
    "# 2.\tPercentage between 50 and 59 – Second Division\n",
    "# 3.\tPercentage between 40 and 49 – Third Division\n",
    "# 4.\tPercentage less than 40 – Fail\n",
    "# Write a python program to Display the result based on the above Criteria.\n",
    "print(\"maximum marks per subject is 100.\")\n",
    "subject1=int(input(\"Enter subject1 marks: \")) \n",
    "subject2=int(input(\"Enter subject2 marks: \"))    \n",
    "subject3=int(input(\"Enter subject3 marks: \"))    \n",
    "subject4=int(input(\"Enter subject4 marks: \"))    \n",
    "subject5=int(input(\"Enter subject5 marks: \")) \n",
    "\n",
    "def results(subject1,subject2,subject3,subject4,subject5):\n",
    "    percentage=(subject1+subject2+subject3+subject4+subject5)/5\n",
    "    print(f\"You got {percentage} %\")\n",
    "    if(percentage>=60):\n",
    "        print(\"Congratulation! you got First Division\")\n",
    "    elif(percentage<60 and percentage>=50):\n",
    "        print(\"Congratulation! you got Second Division\")\n",
    "    elif(percentage<50 and percentage>=40):\n",
    "        print(\"Congratulation! you got Third Division\")    \n",
    "    else:\n",
    "        print(\"Fail\")  \n",
    "results(subject1,subject2,subject3,subject4,subject5)    "
   ]
  },
  {
   "cell_type": "code",
   "execution_count": 13,
   "id": "9cb3ab99-1d73-4101-acab-ffbede1cfcbe",
   "metadata": {},
   "outputs": [
    {
     "name": "stdin",
     "output_type": "stream",
     "text": [
      "Enter number1:  45\n",
      "Enter number2:  26\n",
      "Enter number3:  1\n"
     ]
    },
    {
     "name": "stdout",
     "output_type": "stream",
     "text": [
      "The largest number is: 45\n"
     ]
    }
   ],
   "source": [
    "# Q12: write a Python program to find the largest number among the three input numbers\n",
    "number1=int(input(\"Enter number1: \")) \n",
    "number2=int(input(\"Enter number2: \")) \n",
    "number3=int(input(\"Enter number3: \")) \n",
    "def largest(number1,number2,number3):\n",
    "    if(number1>number2 and number1>number3):\n",
    "        print(f\"The largest number is: {number1}\")\n",
    "    elif(number2>number1 and number2>number3):\n",
    "        print(f\"The largest number is: {number2}\")   \n",
    "    else:\n",
    "        print(f\"The largest number is: {number3}\")\n",
    "largest(number1,number2,number3)               "
   ]
  },
  {
   "cell_type": "code",
   "execution_count": 14,
   "id": "74ecb02b-b010-4360-b2b8-85aad4bcfb29",
   "metadata": {},
   "outputs": [
    {
     "data": {
      "text/plain": [
       "23"
      ]
     },
     "execution_count": 14,
     "metadata": {},
     "output_type": "execute_result"
    }
   ],
   "source": [
    "max(21,22,23)"
   ]
  },
  {
   "cell_type": "code",
   "execution_count": null,
   "id": "b4060688-4acf-47b2-895b-b13f461a76ce",
   "metadata": {},
   "outputs": [],
   "source": []
  }
 ],
 "metadata": {
  "kernelspec": {
   "display_name": "Python 3 (ipykernel)",
   "language": "python",
   "name": "python3"
  },
  "language_info": {
   "codemirror_mode": {
    "name": "ipython",
    "version": 3
   },
   "file_extension": ".py",
   "mimetype": "text/x-python",
   "name": "python",
   "nbconvert_exporter": "python",
   "pygments_lexer": "ipython3",
   "version": "3.12.6"
  }
 },
 "nbformat": 4,
 "nbformat_minor": 5
}
