{
 "cells": [
  {
   "cell_type": "code",
   "execution_count": 2,
   "id": "792a9bfb-8ceb-4f16-9900-8396cd5bd4e0",
   "metadata": {},
   "outputs": [
    {
     "name": "stdin",
     "output_type": "stream",
     "text": [
      "Enter radious:  2\n"
     ]
    },
    {
     "name": "stdout",
     "output_type": "stream",
     "text": [
      "Area of Circle with radious 2.0 is 12.571428571428571.\n"
     ]
    }
   ],
   "source": [
    "#Write a Python program which accept the radius of a circle from the user and compute the area.\n",
    "def circleArea(r):\n",
    "    print(f\"Area of Circle with radious {r} is {(22/7)*r*r}.\")\n",
    "radious= float(input(\"Enter radious: \"))\n",
    "circleArea(radious)    "
   ]
  },
  {
   "cell_type": "code",
   "execution_count": 3,
   "id": "787dfc59-0abe-4075-9634-275a5ea94ae0",
   "metadata": {},
   "outputs": [
    {
     "name": "stdin",
     "output_type": "stream",
     "text": [
      "Enter Temperature in Fahrenheit:  98\n"
     ]
    },
    {
     "name": "stdout",
     "output_type": "stream",
     "text": [
      "Temperature in Fahrenheit is 98.0 which is equal to 36.66666666666667 degrees\n"
     ]
    }
   ],
   "source": [
    "#Temperature of a city in Fahrenheit degrees is input through the keyboard. Write a program to convert this temperature into Centigrade degrees. \n",
    "def tempConversion(fahrenheit):\n",
    "     # degrees=(fahrenheit-32)*(5/9)\n",
    "     print(f\"Temperature in Fahrenheit is {fahrenheit} which is equal to {(fahrenheit-32)*(5/9)} degrees\")\n",
    "Fahrenheit= float(input(\"Enter Temperature in Fahrenheit: \"))\n",
    "tempConversion(Fahrenheit)"
   ]
  },
  {
   "cell_type": "code",
   "execution_count": 4,
   "id": "ee5870b9-f567-40c0-8025-a5c5c009e178",
   "metadata": {},
   "outputs": [
    {
     "name": "stdin",
     "output_type": "stream",
     "text": [
      "Enter number-1:  5\n",
      "Enter number-2:  7\n"
     ]
    },
    {
     "name": "stdout",
     "output_type": "stream",
     "text": [
      "Addition of given numbers is: 12.0\n",
      "Subtraction of given numbers is: -2.0\n",
      "Multiplication of given numbers is: 35.0\n",
      "Division of given numbers is: 0.7142857142857143\n"
     ]
    }
   ],
   "source": [
    "# Write a Python Program to make a simple calculator that can add, subtract, multiply and divide \n",
    "def calculator(a,b):\n",
    "    print(f\"Addition of given numbers is: {a+b}\")\n",
    "    print(f\"Subtraction of given numbers is: {a-b}\")\n",
    "    print(f\"Multiplication of given numbers is: {a*b}\")\n",
    "    print(f\"Division of given numbers is: {a/b}\")\n",
    "number1= float(input(\"Enter number-1: \"))  \n",
    "number2= float(input(\"Enter number-2: \"))  \n",
    "calculator(number1,number2)"
   ]
  },
  {
   "cell_type": "code",
   "execution_count": 5,
   "id": "a791c8fc-eca3-4846-b1b6-4e3c53f3ec2e",
   "metadata": {},
   "outputs": [
    {
     "name": "stdin",
     "output_type": "stream",
     "text": [
      "Enter number:  5\n"
     ]
    },
    {
     "name": "stdout",
     "output_type": "stream",
     "text": [
      "Square root of given number is: 2.23606797749979\n"
     ]
    }
   ],
   "source": [
    "# Write a Python Program to calculate the square root\n",
    "def squareroot(num):\n",
    "    print(f\"Square root of given number is: {num**(0.5)}\")\n",
    "number= float(input(\"Enter number: \"))  \n",
    "squareroot(number)"
   ]
  },
  {
   "cell_type": "code",
   "execution_count": 6,
   "id": "04c8bc24-37be-4b17-878b-0a2ffbf3fff8",
   "metadata": {},
   "outputs": [
    {
     "name": "stdin",
     "output_type": "stream",
     "text": [
      "Enter side-1:  5\n",
      "Enter side-2:  7\n",
      "Enter side-3:  9\n"
     ]
    },
    {
     "name": "stdout",
     "output_type": "stream",
     "text": [
      "Area of triangle is: 17.41228014936585\n"
     ]
    }
   ],
   "source": [
    "# Write a Python Program to find the area of triangle\n",
    "# Three sides of the triangle a, b and c are provided by the user\n",
    "def triangleArea(a,b,c):\n",
    "    s=(a+b+c)/2; #semiperimeter\n",
    "    area=(s*(s-a)*(s-b)*(s-c))**(0.5)\n",
    "    print(f\"Area of triangle is: {area}\")\n",
    "side1= float(input(\"Enter side-1: \"))  \n",
    "side2= float(input(\"Enter side-2: \"))  \n",
    "side3= float(input(\"Enter side-3: \"))\n",
    "triangleArea(side1,side2,side3)"
   ]
  },
  {
   "cell_type": "code",
   "execution_count": 7,
   "id": "f3b33252-ad11-4013-853d-29ce7b2a830c",
   "metadata": {},
   "outputs": [
    {
     "name": "stdout",
     "output_type": "stream",
     "text": [
      "6165\n"
     ]
    }
   ],
   "source": [
    "# If a five-digit number is input through the keyboard, write a program to calculate the sum of its digits without using any loop. \n",
    "# (Hint: Use the modulus operator ‘%’) \n",
    "def sumOfFiveDigitNumber(number):\n",
    "    sum=0\n",
    "    x=number%10000; sum=sum+x; number=number-(x*1000)\n",
    "    x=number%1000; sum=sum+x; number=number-(x*100)\n",
    "    x=number%100; sum=sum+x; number=number-(x*10)\n",
    "    print(sum)\n",
    "sumOfFiveDigitNumber(55555)    "
   ]
  },
  {
   "cell_type": "code",
   "execution_count": 8,
   "id": "efa5dd54-df5f-4366-aa35-aa7190a0a202",
   "metadata": {},
   "outputs": [
    {
     "name": "stdout",
     "output_type": "stream",
     "text": [
      "Twinkle, twinkle, little star,\n",
      "     How I wonder what you are!\n",
      "         Up above the world so high,\n",
      "               Like a diamond in the sky.\n",
      "Twinkle, twinkle, little star,\n",
      "          How I wonder what you are!\n"
     ]
    }
   ],
   "source": [
    "#  Write a Python program to print the following string in a specific format\n",
    "# '''Twinkle, twinkle, little star,\n",
    "#      How I wonder what you are!\n",
    "#          Up above the world so high,\n",
    "#                Like a diamond in the sky.\n",
    "# Twinkle, twinkle, little star,\n",
    "#           How I wonder what you are!'''\n",
    "x='''Twinkle, twinkle, little star,\n",
    "     How I wonder what you are!\n",
    "         Up above the world so high,\n",
    "               Like a diamond in the sky.\n",
    "Twinkle, twinkle, little star,\n",
    "          How I wonder what you are!'''\n",
    "print(x)"
   ]
  },
  {
   "cell_type": "code",
   "execution_count": 10,
   "id": "a9541de3-6031-4673-a8c6-471e0aea9b60",
   "metadata": {},
   "outputs": [
    {
     "name": "stdin",
     "output_type": "stream",
     "text": [
      "Enter name:  om\n",
      "Enter age:  30\n",
      "Enter address:  p\n"
     ]
    },
    {
     "name": "stdout",
     "output_type": "stream",
     "text": [
      "\n",
      "Name is: om\n",
      "Age is: 30\n",
      "Address is: p\n"
     ]
    }
   ],
   "source": [
    "# Q9: Write a Python program to display your details like name, age, address in three different lines.\n",
    "name=input(\"Enter name: \") \n",
    "Age=input(\"Enter age: \")  \n",
    "Address=input(\"Enter address: \")\n",
    "print(f\"\\nName is: {name}\\nAge is: {Age}\\nAddress is: {Address}\")"
   ]
  },
  {
   "cell_type": "code",
   "execution_count": null,
   "id": "ec399f78-bf32-47ab-83e1-bb33c905026a",
   "metadata": {},
   "outputs": [],
   "source": []
  }
 ],
 "metadata": {
  "kernelspec": {
   "display_name": "Python 3 (ipykernel)",
   "language": "python",
   "name": "python3"
  },
  "language_info": {
   "codemirror_mode": {
    "name": "ipython",
    "version": 3
   },
   "file_extension": ".py",
   "mimetype": "text/x-python",
   "name": "python",
   "nbconvert_exporter": "python",
   "pygments_lexer": "ipython3",
   "version": "3.12.6"
  }
 },
 "nbformat": 4,
 "nbformat_minor": 5
}
