{
 "cells": [
  {
   "cell_type": "code",
   "execution_count": 2,
   "id": "d9b156a2-6e86-44f0-9ba0-ea33ca04978a",
   "metadata": {},
   "outputs": [
    {
     "name": "stdin",
     "output_type": "stream",
     "text": [
      "Enter the number of lines to be read:  1\n"
     ]
    },
    {
     "ename": "FileNotFoundError",
     "evalue": "[Errno 2] No such file or directory: 'Day8.txt'",
     "output_type": "error",
     "traceback": [
      "\u001b[1;31m---------------------------------------------------------------------------\u001b[0m",
      "\u001b[1;31mFileNotFoundError\u001b[0m                         Traceback (most recent call last)",
      "Cell \u001b[1;32mIn[2], line 8\u001b[0m\n\u001b[0;32m      6\u001b[0m         x\u001b[38;5;241m=\u001b[39mf\u001b[38;5;241m.\u001b[39mreadlines()\n\u001b[0;32m      7\u001b[0m     \u001b[38;5;28mprint\u001b[39m(x[:n])\n\u001b[1;32m----> 8\u001b[0m \u001b[43mreadFile\u001b[49m\u001b[43m(\u001b[49m\u001b[43mn\u001b[49m\u001b[43m,\u001b[49m\u001b[43mfile\u001b[49m\u001b[43m)\u001b[49m \n",
      "Cell \u001b[1;32mIn[2], line 5\u001b[0m, in \u001b[0;36mreadFile\u001b[1;34m(n, file)\u001b[0m\n\u001b[0;32m      4\u001b[0m \u001b[38;5;28;01mdef\u001b[39;00m \u001b[38;5;21mreadFile\u001b[39m(n,file):\n\u001b[1;32m----> 5\u001b[0m     \u001b[38;5;28;01mwith\u001b[39;00m \u001b[38;5;28;43mopen\u001b[39;49m\u001b[43m(\u001b[49m\u001b[43mfile\u001b[49m\u001b[43m,\u001b[49m\u001b[38;5;124;43m\"\u001b[39;49m\u001b[38;5;124;43mr\u001b[39;49m\u001b[38;5;124;43m\"\u001b[39;49m\u001b[43m)\u001b[49m \u001b[38;5;28;01mas\u001b[39;00m f:\n\u001b[0;32m      6\u001b[0m         x\u001b[38;5;241m=\u001b[39mf\u001b[38;5;241m.\u001b[39mreadlines()\n\u001b[0;32m      7\u001b[0m     \u001b[38;5;28mprint\u001b[39m(x[:n])\n",
      "File \u001b[1;32m~\\AppData\\Roaming\\Python\\Python312\\site-packages\\IPython\\core\\interactiveshell.py:324\u001b[0m, in \u001b[0;36m_modified_open\u001b[1;34m(file, *args, **kwargs)\u001b[0m\n\u001b[0;32m    317\u001b[0m \u001b[38;5;28;01mif\u001b[39;00m file \u001b[38;5;129;01min\u001b[39;00m {\u001b[38;5;241m0\u001b[39m, \u001b[38;5;241m1\u001b[39m, \u001b[38;5;241m2\u001b[39m}:\n\u001b[0;32m    318\u001b[0m     \u001b[38;5;28;01mraise\u001b[39;00m \u001b[38;5;167;01mValueError\u001b[39;00m(\n\u001b[0;32m    319\u001b[0m         \u001b[38;5;124mf\u001b[39m\u001b[38;5;124m\"\u001b[39m\u001b[38;5;124mIPython won\u001b[39m\u001b[38;5;124m'\u001b[39m\u001b[38;5;124mt let you open fd=\u001b[39m\u001b[38;5;132;01m{\u001b[39;00mfile\u001b[38;5;132;01m}\u001b[39;00m\u001b[38;5;124m by default \u001b[39m\u001b[38;5;124m\"\u001b[39m\n\u001b[0;32m    320\u001b[0m         \u001b[38;5;124m\"\u001b[39m\u001b[38;5;124mas it is likely to crash IPython. If you know what you are doing, \u001b[39m\u001b[38;5;124m\"\u001b[39m\n\u001b[0;32m    321\u001b[0m         \u001b[38;5;124m\"\u001b[39m\u001b[38;5;124myou can use builtins\u001b[39m\u001b[38;5;124m'\u001b[39m\u001b[38;5;124m open.\u001b[39m\u001b[38;5;124m\"\u001b[39m\n\u001b[0;32m    322\u001b[0m     )\n\u001b[1;32m--> 324\u001b[0m \u001b[38;5;28;01mreturn\u001b[39;00m \u001b[43mio_open\u001b[49m\u001b[43m(\u001b[49m\u001b[43mfile\u001b[49m\u001b[43m,\u001b[49m\u001b[43m \u001b[49m\u001b[38;5;241;43m*\u001b[39;49m\u001b[43margs\u001b[49m\u001b[43m,\u001b[49m\u001b[43m \u001b[49m\u001b[38;5;241;43m*\u001b[39;49m\u001b[38;5;241;43m*\u001b[39;49m\u001b[43mkwargs\u001b[49m\u001b[43m)\u001b[49m\n",
      "\u001b[1;31mFileNotFoundError\u001b[0m: [Errno 2] No such file or directory: 'Day8.txt'"
     ]
    }
   ],
   "source": [
    "# 1.  Write a Python program to read first n lines of a file.\n",
    "file=\"Day8.txt\"\n",
    "n=int(input(\"Enter the number of lines to be read: \"))\n",
    "def readFile(n,file):\n",
    "    with open(file,\"r\") as f:\n",
    "        x=f.readlines()\n",
    "    print(x[:n])\n",
    "readFile(n,file) "
   ]
  },
  {
   "cell_type": "code",
   "execution_count": 30,
   "id": "7c5f361b-999f-4144-8b63-107a8d08351d",
   "metadata": {},
   "outputs": [
    {
     "name": "stdin",
     "output_type": "stream",
     "text": [
      "Enter text to append:  hi\n",
      "Do you want to enter more(y/n):  y\n",
      "Enter text to append:  hello\n",
      "Do you want to enter more(y/n):  y\n",
      "Enter text to append:  how r u\n",
      "Do you want to enter more(y/n):  n\n"
     ]
    }
   ],
   "source": [
    "# 2. Write a Python program to append text to a file and display the text.\n",
    "def textCreate():\n",
    "    x=open(\"testTest.txt\",\"a+\")\n",
    "    while True:\n",
    "        text=input(\"Enter text to append: \")\n",
    "        x.write(text)\n",
    "        x.write(\"\\n\")\n",
    "        choice=input(\"Do you want to enter more(y/n): \").upper()\n",
    "        if (choice=='N'):\n",
    "            break            \n",
    "textCreate()"
   ]
  },
  {
   "cell_type": "code",
   "execution_count": null,
   "id": "c7a7adc2-03a8-4df9-9dcf-d43112e253e5",
   "metadata": {},
   "outputs": [],
   "source": [
    "# 3. Write a Python program to read a file line by line and store it into a list.\n",
    "file=\"twinkle.txt\"\n",
    "list=[]\n",
    "with open(file,\"r\") as f:\n",
    "        for i in f:\n",
    "            print(i)   \n",
    "            choice=input(\"Do you want to add this line(y/n): \").upper()\n",
    "            if(choice !='N'):\n",
    "                list.append(i)\n",
    "            else:\n",
    "                break\n",
    "print(\"created list: \",list)  "
   ]
  },
  {
   "cell_type": "code",
   "execution_count": null,
   "id": "e059c1ae-5e72-40aa-8650-f6a4840824b6",
   "metadata": {},
   "outputs": [],
   "source": [
    "# 4.  Write a program to print each line of a file in reverse order.\n",
    "file=\"twinkle.txt\"\n",
    "with open(file,\"r\") as f:\n",
    "    x=f.readlines()\n",
    "    print(\"Normal order: \\n\",x)\n",
    "    print(\"\\n\")\n",
    "    print(\"Reverse Order: \\n\",x[::-1])\n"
   ]
  },
  {
   "cell_type": "code",
   "execution_count": null,
   "id": "62590708-0250-46c9-8af5-f8db8a74ce59",
   "metadata": {},
   "outputs": [],
   "source": [
    "# 5. Write a Python program to write a list content to a file.\n",
    "list=['__doc__', '__loader__', '__name__', '__package__', '__spec__', 'acos', 'acosh', 'asin', 'asinh', 'atan', 'atan2', 'atanh', 'cbrt', 'ceil', 'comb', 'copysign', 'cos', 'cosh', 'degrees', 'dist', 'e', 'erf', 'erfc', 'exp', 'exp2', 'expm1', 'fabs', 'factorial', 'floor', 'fmod', 'frexp', 'fsum', 'gamma', 'gcd', 'hypot', 'inf', 'isclose', 'isfinite', 'isinf', 'isnan', 'isqrt', 'lcm', 'ldexp', 'lgamma', 'log', 'log10', 'log1p', 'log2', 'modf', 'nan', 'nextafter', 'perm', 'pi', 'pow', 'prod', 'radians', 'remainder', 'sin', 'sinh', 'sqrt', 'sumprod', 'tan', 'tanh', 'tau', 'trunc', 'ulp']\n",
    "\n",
    "def listToFile(file):\n",
    "    file=open(r\"listToFile.txt\",\"a+\")\n",
    "    for i in list:\n",
    "        file.write(i)\n",
    "        file.write(\"\\n\")\n",
    "    file.close()\n",
    "listToFile(file)\n",
    "\n",
    "file=\"listToFile.txt\"\n",
    "def printFile(file):\n",
    "    with open(file,\"r\") as f:\n",
    "        for i in f:\n",
    "            print(i)\n",
    "printFile(file)"
   ]
  },
  {
   "cell_type": "code",
   "execution_count": null,
   "id": "24caaa6b-172c-4b15-a4be-7ce34530426b",
   "metadata": {},
   "outputs": [],
   "source": [
    "# 6. Write a program to compute the number of characters, words and lines in a file.\n",
    "file=open(\"twinkle.txt\",\"r\")\n",
    "def charsWordslines(file):\n",
    "    file.readlines()\n",
    "    file.seek(0)\n",
    "    lines=file.readlines()\n",
    "    noOflines=len(lines)\n",
    "    file.seek(0)\n",
    "    noOfchars=len(file.read())\n",
    "    file.seek(0)\n",
    "    noOfWords=len(file.read().split())\n",
    "    print(\"Number of characters: \",noOfchars)\n",
    "    print(\"Number of words: \",noOfWords)\n",
    "    print(\"Number of lines: \",noOflines)\n",
    "\n",
    "charsWordslines(file)"
   ]
  },
  {
   "cell_type": "code",
   "execution_count": null,
   "id": "223c3f5e-99ab-45c3-a565-baacd850be5d",
   "metadata": {},
   "outputs": [],
   "source": [
    "# 7. Write a program to accept string/sentences from the user till the user enters “END” to. Save the data in a text file and then display only those sentences which begin with an uppercase alphabet. \n",
    "def addingUpperCaseAlphabetSentencesToFile(file):\n",
    "    listOfsentences=[]\n",
    "    listOfAlphabets=['A','B','C','D','E', 'F', 'G', 'H', 'I', 'J', 'K', 'L', 'M', 'N', 'O', 'P', 'Q', 'R', 'S', 'T', 'U', 'V', 'W', 'X', 'Y', 'Z']\n",
    "    while True:\n",
    "        choice=input(\"Enter 'END' to stop giving inputs or anything to continue: \").upper()\n",
    "        if (choice!= 'END'):\n",
    "            sentence=input(\"Enter string/sentence to be added to file (only those sentences which begin with an uppercase alphabet added to file: \")\n",
    "            for Alphabet in listOfAlphabets:\n",
    "                if(sentence[0]==Alphabet):\n",
    "                    listOfsentences.append(sentence)\n",
    "        else:\n",
    "            break\n",
    "    print(\"list of Sentences: \",listOfsentences)\n",
    "    for i in listOfsentences:\n",
    "        file.write(i)\n",
    "        file.write(\"\\n\")\n",
    "\n",
    "f=open(\"UpperCaseAlphabetSentences.txt\",\"w\")\n",
    "addingUpperCaseAlphabetSentencesToFile(f)\n",
    "f=open(\"UpperCaseAlphabetSentences.txt\",\"r\")\n",
    "print(f.read())\n",
    "f.close() "
   ]
  },
  {
   "cell_type": "code",
   "execution_count": 3,
   "id": "8f61f8d6-c3f8-40bf-8058-800ba6931f1d",
   "metadata": {},
   "outputs": [
    {
     "name": "stdout",
     "output_type": "stream",
     "text": [
      "Entering records: \n",
      "Record:  1\n"
     ]
    },
    {
     "name": "stdin",
     "output_type": "stream",
     "text": [
      "Enter Quantity:  5\n",
      "Enter Price:  25\n",
      "Enter item no:  1\n"
     ]
    },
    {
     "name": "stdout",
     "output_type": "stream",
     "text": [
      "Amount:  125.0\n"
     ]
    },
    {
     "name": "stdin",
     "output_type": "stream",
     "text": [
      "Enter other than 'N' to continue entering records:   n\n"
     ]
    },
    {
     "name": "stdout",
     "output_type": "stream",
     "text": [
      "Entry is done and data is dumped to binary file 'Question8.dat'.\n",
      "Size of binary file:  45\n",
      "\n",
      "Reading records: \n",
      "Record No:  1\n",
      "[1, 5.0, 25.0, 125.0]\n"
     ]
    }
   ],
   "source": [
    "# 8. Write a program to enter the following records in a binary file: \n",
    "# Item No \tinteger \n",
    "# Item_Name \tstring \n",
    "# Qty \t\tinteger \n",
    "# Price \t\tfloat \n",
    "# Number of records to be entered should be accepted from the user. Read the file to display the records in the following format: \n",
    "# Item No: \n",
    "# Item Name : \n",
    "# Quantity: \n",
    "# Price per item: \n",
    "# Amount: \t( to be calculated as Price * Qty)\n",
    "import pickle\n",
    "file=open(\"Question8.dat\",\"wb\")\n",
    "print(\"Entering records: \")\n",
    "record=1\n",
    "while True:\n",
    "    print(\"Record: \",record)\n",
    "    Qty=float(input(\"Enter Quantity: \") ) \n",
    "    P=float(input(\"Enter Price: \"))  \n",
    "    ItemNo=int(input(\"Enter item no: \"))\n",
    "\n",
    "    Amount=P*Qty\n",
    "    print(\"Amount: \",Amount)\n",
    "    ItemData=[ItemNo,Qty,P,Amount]\n",
    "    pickle.dump(ItemData,file)\n",
    "    ans=input(\"Enter other than 'N' to continue entering records:  \")\n",
    "    record=record+1\n",
    "    if(ans.upper()=='N'):\n",
    "        print(\"Entry is done and data is dumped to binary file 'Question8.dat'.\")\n",
    "        break\n",
    "print(\"Size of binary file: \",file.tell())\n",
    "file.close()\n",
    "print()\n",
    "readRec=1\n",
    "print(\"Reading records: \")\n",
    "\n",
    "with open(\"Question8.dat\",\"rb\") as file:\n",
    "    for i in range(record-1):\n",
    "            data=pickle.load(file)\n",
    "            print(\"Record No: \",readRec)\n",
    "            print(data)\n",
    "            readRec+=1\n",
    "file.close()"
   ]
  },
  {
   "cell_type": "code",
   "execution_count": null,
   "id": "60a38e54-1543-4e9e-9fd4-e512c7bea539",
   "metadata": {},
   "outputs": [],
   "source": []
  }
 ],
 "metadata": {
  "kernelspec": {
   "display_name": "Python 3 (ipykernel)",
   "language": "python",
   "name": "python3"
  },
  "language_info": {
   "codemirror_mode": {
    "name": "ipython",
    "version": 3
   },
   "file_extension": ".py",
   "mimetype": "text/x-python",
   "name": "python",
   "nbconvert_exporter": "python",
   "pygments_lexer": "ipython3",
   "version": "3.12.6"
  }
 },
 "nbformat": 4,
 "nbformat_minor": 5
}
