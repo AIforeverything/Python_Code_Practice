{
 "cells": [
  {
   "cell_type": "code",
   "execution_count": 2,
   "id": "72961ae1-c286-495a-b826-822aa9067ffc",
   "metadata": {},
   "outputs": [
    {
     "name": "stdin",
     "output_type": "stream",
     "text": [
      "Enter first number:  5\n",
      "Enter second number:  0\n"
     ]
    },
    {
     "name": "stdout",
     "output_type": "stream",
     "text": [
      "Zero Division error : Denominator can not be zero\n"
     ]
    }
   ],
   "source": [
    "# Q1: Write a function to compute 5/0 and use try/except to catch the exceptions.\n",
    "def catchException(x,y):\n",
    "    try:\n",
    "        print(x/y)\n",
    "    except Exception:\n",
    "        print(\"Zero Division error : Denominator can not be zero\")\n",
    "\n",
    "first_number=int(input(\"Enter first number: \"))\n",
    "second_number=int(input(\"Enter second number: \"))\n",
    "catchException(first_number,second_number)"
   ]
  },
  {
   "cell_type": "code",
   "execution_count": 4,
   "id": "bba1ff9f-3e35-4f68-95d3-dcf3c9d9689c",
   "metadata": {},
   "outputs": [
    {
     "name": "stdout",
     "output_type": "stream",
     "text": [
      "error occured:  list index out of range\n"
     ]
    }
   ],
   "source": [
    "# Q2: Write a Python program to access the array element whose index is out of bound and handle the corresponding exception\n",
    "array=[1,3,7,5]\n",
    "try:\n",
    "    print(array[7])\n",
    "except Exception as e:\n",
    "        print(\"error occured: \",e)    "
   ]
  },
  {
   "cell_type": "code",
   "execution_count": 14,
   "id": "9d82f7eb-55e4-499b-9ede-82ee36d8016d",
   "metadata": {},
   "outputs": [
    {
     "name": "stdin",
     "output_type": "stream",
     "text": [
      "Enter first number:  2\n",
      "Enter second number:  a\n"
     ]
    },
    {
     "name": "stdout",
     "output_type": "stream",
     "text": [
      "Error occured:  invalid literal for int() with base 10: 'a'\n"
     ]
    }
   ],
   "source": [
    "# Q 3: Write a Python  Program to handle multiple errors with one except statement\n",
    "def catchException():\n",
    "    first_number=(input(\"Enter first number: \"))\n",
    "    second_number=(input(\"Enter second number: \"))\n",
    "    try:\n",
    "        print(int(first_number)/int(second_number))\n",
    "    except (ZeroDivisionError,ValueError) as e:\n",
    "        print(\"Error occured: \",e)\n",
    "catchException()"
   ]
  },
  {
   "cell_type": "code",
   "execution_count": 15,
   "id": "0a7a8684-da82-4e10-a0b7-cfa03508a68f",
   "metadata": {},
   "outputs": [
    {
     "name": "stdin",
     "output_type": "stream",
     "text": [
      "Enter first number:  5\n",
      "Enter second number:  0\n"
     ]
    },
    {
     "name": "stdout",
     "output_type": "stream",
     "text": [
      "Error occured:  division by zero\n",
      "End of the program.\n"
     ]
    }
   ],
   "source": [
    "# Q 4: Write a Python Program to depict else clause with try-except\n",
    "\n",
    "def catchException():\n",
    "    first_number=(input(\"Enter first number: \"))\n",
    "    second_number=(input(\"Enter second number: \"))\n",
    "    try:\n",
    "        print(int(first_number)/int(second_number))\n",
    "    except (ZeroDivisionError,ValueError) as e:\n",
    "        print(\"Error occured: \",e)\n",
    "    else:  #This will be executed when there is no exception\n",
    "        print(\"code execued.\")\n",
    "    finally: #This will be executed irrespective of exception\n",
    "        print(\"End of the program.\")\n",
    "catchException()"
   ]
  },
  {
   "cell_type": "code",
   "execution_count": 18,
   "id": "e3333b68-dcac-4d55-a55b-adb96435aa7a",
   "metadata": {},
   "outputs": [
    {
     "name": "stdin",
     "output_type": "stream",
     "text": [
      "Enter positive integer:  -5\n"
     ]
    },
    {
     "name": "stdout",
     "output_type": "stream",
     "text": [
      "Error occured:  Entered value is not positive integer.\n"
     ]
    }
   ],
   "source": [
    "# Q5: Write a Python Program to depict Raising Exception\n",
    "try:\n",
    "    x=int(input(\"Enter positive integer: \"))\n",
    "    if (x<0):\n",
    "        raise ValueError(\"Entered value is not positive integer.\")\n",
    "    else:\n",
    "        print(\"Entered value is positive integer: \",x)\n",
    "except ValueError as v:\n",
    "    print(\"Error occured: \",v)"
   ]
  },
  {
   "cell_type": "code",
   "execution_count": 44,
   "id": "9c673a2f-db15-4898-be17-125ceb196e19",
   "metadata": {},
   "outputs": [
    {
     "name": "stdin",
     "output_type": "stream",
     "text": [
      "Enter number:  25\n"
     ]
    },
    {
     "name": "stdout",
     "output_type": "stream",
     "text": [
      "enter smaller number.\n"
     ]
    },
    {
     "name": "stdin",
     "output_type": "stream",
     "text": [
      "Enter number:  18\n"
     ]
    },
    {
     "name": "stdout",
     "output_type": "stream",
     "text": [
      "enter larger number.\n"
     ]
    },
    {
     "name": "stdin",
     "output_type": "stream",
     "text": [
      "Enter number:  19\n"
     ]
    },
    {
     "name": "stdout",
     "output_type": "stream",
     "text": [
      "enter larger number.\n"
     ]
    },
    {
     "name": "stdin",
     "output_type": "stream",
     "text": [
      "Enter number:  20\n"
     ]
    },
    {
     "name": "stdout",
     "output_type": "stream",
     "text": [
      "given number is 20 and your guessing number is 20.Correct.\n"
     ]
    }
   ],
   "source": [
    "# Q6: Write a python program to create user-defined exception\n",
    "class customClass(Exception):\n",
    "    '''This is custom defined class'''\n",
    "    pass\n",
    "class valueSmallError(customClass):\n",
    "    pass\n",
    "class valueLargeError(customClass):\n",
    "    pass \n",
    "\n",
    "num=20\n",
    "while True:\n",
    "    try:\n",
    "        num1=int(input(\"Enter number: \"))\n",
    "        if num1<num:\n",
    "            raise valueSmallError\n",
    "        elif num1>num:\n",
    "            raise valueLargeError\n",
    "        break\n",
    "    except valueSmallError:\n",
    "        print(\"enter larger number.\")\n",
    "    except valueLargeError:\n",
    "        print(\"enter smaller number.\")\n",
    "print(f\"given number is {num} and your guessing number is {num1}.Correct.\")            "
   ]
  },
  {
   "cell_type": "code",
   "execution_count": 56,
   "id": "a0d6de58-9bfc-44c8-97dc-140a8174e3ac",
   "metadata": {},
   "outputs": [
    {
     "name": "stdout",
     "output_type": "stream",
     "text": [
      "Name Error is occured:  name 'y' is not defined\n"
     ]
    }
   ],
   "source": [
    "# Q7: Print one message if the try block raises a NameError and another for other errors:\n",
    "try:  \n",
    "    if (y):\n",
    "        raise NameError\n",
    "        x=int(input(\"Enter integer: \")) #This is to check other errors\n",
    "except NameError as n:\n",
    "    print(\"Name Error is occured: \",n)\n",
    "except Exception as e:\n",
    "    print(\"This can handle remaining errors other than Name Error,because name error is called first.\",e)"
   ]
  },
  {
   "cell_type": "code",
   "execution_count": 89,
   "id": "cd2896b6-d02f-4ca0-b232-513f770c197a",
   "metadata": {},
   "outputs": [
    {
     "name": "stdout",
     "output_type": "stream",
     "text": [
      "Error:  not writable\n"
     ]
    }
   ],
   "source": [
    "# Q8: Try to open and write to a file that is not writable:\n",
    "import os\n",
    "try:\n",
    "    f = open(\"names.txt\", \"w\") #created new file\n",
    "    f.write(\"Elif\") #added some content\n",
    "    with open(\"names.txt\") as f: #opened file without specifying the mode\n",
    "        f.write(\"Hi\")\n",
    "except Exception as e:\n",
    "    print(\"Error: \",e)        "
   ]
  },
  {
   "cell_type": "code",
   "execution_count": 94,
   "id": "9cfedfe3-1571-49a4-9714-f638e5f59542",
   "metadata": {},
   "outputs": [
    {
     "name": "stdin",
     "output_type": "stream",
     "text": [
      "Enter value greater or equal to 0:  -1\n"
     ]
    },
    {
     "name": "stdout",
     "output_type": "stream",
     "text": [
      "Error occured:  Entered value is less than 0.\n"
     ]
    }
   ],
   "source": [
    "# Q9: Write a python program to raise an error and stop the program if x is lower than 0.\n",
    "try:\n",
    "    x=float(input(\"Enter value greater or equal to 0: \"))\n",
    "    if (x<0):\n",
    "        raise ValueError(\"Entered value is less than 0.\")\n",
    "    else:\n",
    "        print(\"Entered value is : \",x)\n",
    "except ValueError as v:\n",
    "    print(\"Error occured: \",v)"
   ]
  },
  {
   "cell_type": "code",
   "execution_count": 60,
   "id": "0f7eebe5-f9c4-415d-b575-1a97a7ebc770",
   "metadata": {},
   "outputs": [
    {
     "name": "stdin",
     "output_type": "stream",
     "text": [
      "Enter integer: 2\n"
     ]
    },
    {
     "name": "stdout",
     "output_type": "stream",
     "text": [
      "Entered value is an integer.\n"
     ]
    }
   ],
   "source": [
    "# Q10: Write a python program to raise a TypeError if x is not an integer:\n",
    "x=5\n",
    "isinstance(x,int)\n",
    "try:\n",
    "    x=int(input(\"Enter integer:\"))\n",
    "    print(\"Entered value is an integer.\") \n",
    "except TypeError:\n",
    "    print(\"Error\")    "
   ]
  },
  {
   "cell_type": "code",
   "execution_count": 107,
   "id": "da8d16ad-a044-41f5-9f6c-7c00ab5e8312",
   "metadata": {},
   "outputs": [
    {
     "name": "stdin",
     "output_type": "stream",
     "text": [
      "Enter integer:  5.2\n"
     ]
    },
    {
     "name": "stdout",
     "output_type": "stream",
     "text": [
      "TypeError has occurred. Given value is not an integer.\n"
     ]
    }
   ],
   "source": [
    "try:\n",
    "    x=int(input(\"Enter integer: \"))\n",
    "    print(x)\n",
    "except Exception as e:\n",
    "    print(\"TypeError has occurred. Given value is not an integer.\")    "
   ]
  },
  {
   "cell_type": "code",
   "execution_count": null,
   "id": "cbb2b9ec-377b-44a6-9c56-8d926022b121",
   "metadata": {},
   "outputs": [],
   "source": []
  }
 ],
 "metadata": {
  "kernelspec": {
   "display_name": "Python 3 (ipykernel)",
   "language": "python",
   "name": "python3"
  },
  "language_info": {
   "codemirror_mode": {
    "name": "ipython",
    "version": 3
   },
   "file_extension": ".py",
   "mimetype": "text/x-python",
   "name": "python",
   "nbconvert_exporter": "python",
   "pygments_lexer": "ipython3",
   "version": "3.12.6"
  }
 },
 "nbformat": 4,
 "nbformat_minor": 5
}
