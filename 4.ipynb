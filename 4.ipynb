{
 "cells": [
  {
   "cell_type": "code",
   "execution_count": 1,
   "id": "bbe255db-1580-4860-aa65-8fcfb297b765",
   "metadata": {},
   "outputs": [
    {
     "name": "stdin",
     "output_type": "stream",
     "text": [
      "Enter number to be added upto:  20\n"
     ]
    },
    {
     "name": "stdout",
     "output_type": "stream",
     "text": [
      "sum of odd numbers from 0 to 20: 100\n"
     ]
    }
   ],
   "source": [
    "# Q1: Write a python program to add all the odd numbers from 0 to 20.\n",
    "num=int(input(\"Enter number to be added upto: \"))\n",
    "def addodd(num):\n",
    "    sum=0\n",
    "    for i in range(num+1):\n",
    "        if (i%2!=0):\n",
    "            sum=sum+i\n",
    "    print(f\"sum of odd numbers from 0 to {num}: {sum}\")       \n",
    "addodd(num)            "
   ]
  },
  {
   "cell_type": "code",
   "execution_count": 2,
   "id": "56bc17eb-ff4d-41e1-b1ea-d57e1a3e70be",
   "metadata": {},
   "outputs": [
    {
     "name": "stdin",
     "output_type": "stream",
     "text": [
      "Enter lower range number:  100\n",
      "Enter upper range number:  200\n"
     ]
    },
    {
     "name": "stdout",
     "output_type": "stream",
     "text": [
      "sum of numbers from 100  to 200: 14850\n"
     ]
    }
   ],
   "source": [
    "# Q 2: Write a python program to find the sum of all integers greater than 100 and less than 200.\n",
    "num1=int(input(\"Enter lower range number: \"))\n",
    "num2=int(input(\"Enter upper range number: \"))\n",
    "def addition(num1,num2):\n",
    "    sum=0\n",
    "    for i in range(num1+1,num2):\n",
    "            sum=sum+i\n",
    "    print(f\"sum of numbers from {num1}  to {num2}: {sum}\")       \n",
    "addition(num1,num2)"
   ]
  },
  {
   "cell_type": "code",
   "execution_count": 20,
   "id": "7101deaf-a824-4b08-8e71-311b351dcb60",
   "metadata": {},
   "outputs": [
    {
     "name": "stdin",
     "output_type": "stream",
     "text": [
      "Enter number:  10\n"
     ]
    },
    {
     "name": "stdout",
     "output_type": "stream",
     "text": [
      "first 10 even numbers: [2, 4, 6, 8, 10, 12, 14, 16, 18, 20]\n",
      "sum of squares of first 10 even numbers : 1540\n"
     ]
    }
   ],
   "source": [
    "# Q3: Write a program to display the sum of square of the first ten even natural numbers\n",
    "num=int(input(\"Enter number: \"))\n",
    "listOfEvenNumbers=[]\n",
    "i=2\n",
    "while(len(listOfEvenNumbers)<num):\n",
    "     if (i%2==0):\n",
    "            listOfEvenNumbers.append(i)\n",
    "            i+=2   \n",
    "print(f\"first {num} even numbers: {listOfEvenNumbers}\")\n",
    "sum=0\n",
    "for i in listOfEvenNumbers:\n",
    "            sum=sum+(i*i)\n",
    "print(f\"sum of squares of first {num} even numbers : {sum}\")         "
   ]
  },
  {
   "cell_type": "code",
   "execution_count": 21,
   "id": "c30ad775-5669-4abf-b516-a1359c61e6d7",
   "metadata": {},
   "outputs": [
    {
     "name": "stdout",
     "output_type": "stream",
     "text": [
      "65 = A\n",
      "66 = B\n",
      "67 = C\n",
      "68 = D\n",
      "69 = E\n",
      "70 = F\n",
      "71 = G\n",
      "72 = H\n",
      "73 = I\n",
      "74 = J\n",
      "75 = K\n",
      "76 = L\n",
      "77 = M\n",
      "78 = N\n",
      "79 = O\n",
      "80 = P\n",
      "81 = Q\n",
      "82 = R\n",
      "83 = S\n",
      "84 = T\n",
      "85 = U\n",
      "86 = V\n",
      "87 = W\n",
      "88 = X\n",
      "89 = Y\n",
      "90 = Z\n"
     ]
    }
   ],
   "source": [
    "# Q4: Write a python program to display ascii characters from 65 to 90\n",
    "for i in range(65,91):\n",
    "     print(f\"{i} = {chr(i)}\")"
   ]
  },
  {
   "cell_type": "code",
   "execution_count": 5,
   "id": "cf5a95a6-23e7-4de8-b13d-24eaa732694b",
   "metadata": {},
   "outputs": [
    {
     "name": "stdout",
     "output_type": "stream",
     "text": [
      "48 = 0\n",
      "49 = 1\n",
      "50 = 2\n",
      "51 = 3\n",
      "52 = 4\n",
      "53 = 5\n",
      "54 = 6\n",
      "55 = 7\n",
      "56 = 8\n",
      "57 = 9\n"
     ]
    }
   ],
   "source": [
    "for i in range(48,58):\n",
    "    print(f\"{i} = {chr(i)}\")"
   ]
  },
  {
   "cell_type": "code",
   "execution_count": 22,
   "id": "b7be3a34-c608-479f-b3a7-176a3b7ff888",
   "metadata": {},
   "outputs": [
    {
     "name": "stdout",
     "output_type": "stream",
     "text": [
      "97 = a\n",
      "98 = b\n",
      "99 = c\n",
      "100 = d\n",
      "101 = e\n",
      "102 = f\n",
      "103 = g\n",
      "104 = h\n",
      "105 = i\n",
      "106 = j\n",
      "107 = k\n",
      "108 = l\n",
      "109 = m\n",
      "110 = n\n",
      "111 = o\n",
      "112 = p\n",
      "113 = q\n",
      "114 = r\n",
      "115 = s\n",
      "116 = t\n",
      "117 = u\n",
      "118 = v\n",
      "119 = w\n",
      "120 = x\n",
      "121 = y\n",
      "122 = z\n"
     ]
    }
   ],
   "source": [
    "for i in range(97,123):\n",
    "    print(f\"{i} = {chr(i)}\")"
   ]
  },
  {
   "cell_type": "code",
   "execution_count": 23,
   "id": "148c102b-9274-41d4-b392-1ed57bc5c99a",
   "metadata": {},
   "outputs": [
    {
     "name": "stdout",
     "output_type": "stream",
     "text": [
      "[500, 400, 300, 200, 100]\n"
     ]
    }
   ],
   "source": [
    "# Q7: Write a python program for given a Python list you should be able to display Python list in the following order\n",
    "\n",
    "L1 = [100, 200, 300, 400, 500]\n",
    "\n",
    "# Expected output: [500, 400, 300, 200, 100]\n",
    "def reverselist(L1):\n",
    "    L1=L1[::-1]\n",
    "    print(L1)\n",
    "reverselist(L1)    "
   ]
  },
  {
   "cell_type": "code",
   "execution_count": 39,
   "id": "27562b76-7f12-49ea-acb1-b863317a663c",
   "metadata": {},
   "outputs": [
    {
     "data": {
      "text/plain": [
       "{1: 10, 2: 20, 3: 30, 4: 40, 5: 50, 6: 60}"
      ]
     },
     "execution_count": 39,
     "metadata": {},
     "output_type": "execute_result"
    }
   ],
   "source": [
    "# Q8: Write a Python program to concatenate following dictionaries to create a new one.\n",
    "# Sample Dictionary : \n",
    "dic1={1:10, 2:20} \n",
    "dic2={3:30, 4:40} \n",
    "dic3={5:50,6:60}\n",
    "# resultdict={}\n",
    "# Expected Result : {1: 10, 2: 20, 3: 30, 4: 40, 5: 50, 6: 60}\n",
    "resultdict={}\n",
    "resultdict.update(dic1)\n",
    "resultdict.update(dic2)\n",
    "resultdict.update(dic3)\n",
    "resultdict\n"
   ]
  },
  {
   "cell_type": "code",
   "execution_count": 42,
   "id": "4eabbba4-7132-4da4-b748-72ee061e0a1e",
   "metadata": {},
   "outputs": [
    {
     "data": {
      "text/plain": [
       "{0: 10, 1: 20, 2: 30}"
      ]
     },
     "execution_count": 42,
     "metadata": {},
     "output_type": "execute_result"
    }
   ],
   "source": [
    "# Q9: Write a Python program to add key to a dictionary.\n",
    "SampleDictionary = {0: 10, 1: 20}\n",
    "# Expected Result : {0: 10, 1: 20, 2: 30}\n",
    "\n",
    "SampleDictionary[2]=30\n",
    "SampleDictionary"
   ]
  },
  {
   "cell_type": "code",
   "execution_count": 44,
   "id": "2d7d1eb0-9ce7-47b4-912a-8e6ff45606c3",
   "metadata": {},
   "outputs": [
    {
     "data": {
      "text/plain": [
       "{'Black', 'White'}"
      ]
     },
     "execution_count": 44,
     "metadata": {},
     "output_type": "execute_result"
    }
   ],
   "source": [
    "# Q10: Write a Python program to print out a set containing all the colors from a list which are not present in another list\n",
    "# Test Data : \n",
    "# color_list_1 = set([\"White\", \"Black\", \"Red\"]) \n",
    "# color_list_2 = set([\"Red\", \"Green\"])\n",
    "# output: set([\"White\", \"Black\"])\n",
    "\n",
    "color_list_1 = {\"White\", \"Black\", \"Red\"} \n",
    "color_list_2 = {\"Red\", \"Green\"}\n",
    "set=color_list_1-color_list_2\n",
    "set"
   ]
  },
  {
   "cell_type": "code",
   "execution_count": 46,
   "id": "96c38fa9-0f0b-4745-b72c-6bd139573db4",
   "metadata": {},
   "outputs": [
    {
     "name": "stdout",
     "output_type": "stream",
     "text": [
      "[1, 4, 9, 16, 25, 36, 49]\n"
     ]
    }
   ],
   "source": [
    "# Q11: Given a Python list. Write a python program to turn every item of a list into its square \n",
    "List1 = [1, 2, 3, 4, 5, 6, 7]\n",
    "# Expected output:\n",
    "# [1, 4, 9, 16, 25, 36, 49]\n",
    "def squareOfList(List1):\n",
    "    for i in range(len(List1)):\n",
    "        List1[i]=List1[i]*List1[i]\n",
    "    print(List1)    \n",
    "squareOfList(List1)"
   ]
  },
  {
   "cell_type": "code",
   "execution_count": 47,
   "id": "6498d19b-ccfa-4bf3-905c-0dc3404b33ed",
   "metadata": {},
   "outputs": [
    {
     "name": "stdin",
     "output_type": "stream",
     "text": [
      "Enter String for counting vowels in it:  Aeroplane\n"
     ]
    },
    {
     "name": "stdout",
     "output_type": "stream",
     "text": [
      "Total vowels in given string 'Aeroplane' is 5\n"
     ]
    }
   ],
   "source": [
    "# Q12: Program to count the number of each vowel in a string.\n",
    "s=input(\"Enter String for counting vowels in it: \")\n",
    "def countVowels(s):\n",
    "    vowels=['a','e','i','o','u','A','E','I','O','U']\n",
    "    count=0\n",
    "    for i in s:\n",
    "        if i in vowels:\n",
    "            count+=1\n",
    "    print(f\"Total vowels in given string '{s}' is {count}\")\n",
    "countVowels(s)"
   ]
  },
  {
   "cell_type": "code",
   "execution_count": 48,
   "id": "90cd836e-60b1-41ec-9764-21d2d81adef1",
   "metadata": {},
   "outputs": [
    {
     "data": {
      "text/plain": [
       "80"
      ]
     },
     "execution_count": 48,
     "metadata": {},
     "output_type": "execute_result"
    }
   ],
   "source": [
    "# Q13:Write a python program to Access the value of key ‘history’ from the following dictionary-\n",
    "sampleDict = {\"class\":{\"student\":{\"name\":\"Mike\",\"marks\":{\"physics\":70,\"history\":80}}}}\n",
    "\n",
    "sampleDict[\"class\"][\"student\"][\"marks\"][\"history\"]\n"
   ]
  },
  {
   "cell_type": "code",
   "execution_count": 49,
   "id": "492bc7d5-7fe0-4ea7-b5d4-427975a82158",
   "metadata": {},
   "outputs": [
    {
     "name": "stdin",
     "output_type": "stream",
     "text": [
      "Enter String for removing punctuations in it:  1!f@h#I$j{K)\n"
     ]
    },
    {
     "name": "stdout",
     "output_type": "stream",
     "text": [
      "string after removing punctuations is: 1fhIjK\n"
     ]
    }
   ],
   "source": [
    "# Q 14: write a Program to Remove Punctuations from a String provided by the user. [Hint: use punctuation attribute of string module to get all punctuations (i.e. !\"#$%&\\'()*+,-./:;<=>?@[\\\\]^_`{|}~ ) ]\n",
    "s=input(\"Enter String for removing punctuations in it: \")\n",
    "def punctuationsRemoval(s):\n",
    "    punctuations=\"\"\" !\"#$%&\\'()*+,-./:;<=>?@[\\\\]^_`{|}~ ) \"\"\"\n",
    "    for i in s:\n",
    "        if i in punctuations:\n",
    "            s=s.replace(i,'')\n",
    "    print(f\"string after removing punctuations is: {s}\")\n",
    "punctuationsRemoval(s)"
   ]
  },
  {
   "cell_type": "code",
   "execution_count": 51,
   "id": "f6f10cde-effe-4020-a831-072402f959bd",
   "metadata": {},
   "outputs": [
    {
     "name": "stdin",
     "output_type": "stream",
     "text": [
      "Enter String:  orange, banana, apple\n"
     ]
    },
    {
     "name": "stdout",
     "output_type": "stream",
     "text": [
      "after sorting string alphabetically: [' apple', ' banana', 'orange']\n"
     ]
    }
   ],
   "source": [
    "# Q15: write a Program to sort alphabetically the words form a string provided by the user. [You can use split() method to split string into a list of words. ]\n",
    "s=input(\"Enter String: \")\n",
    "def alphabeticallySortingString(s):\n",
    "    s=s.split(\",\")\n",
    "    s.sort()\n",
    "    print(f\"after sorting string alphabetically: {s}\")\n",
    "alphabeticallySortingString(s)"
   ]
  },
  {
   "cell_type": "markdown",
   "id": "fd464b27-7d4a-4bcd-9bfb-5c560558e92c",
   "metadata": {},
   "source": [
    "[Nested Loops]"
   ]
  },
  {
   "cell_type": "code",
   "execution_count": 52,
   "id": "51854336-b1cb-41b0-b0b3-d47e31e5abf6",
   "metadata": {},
   "outputs": [
    {
     "name": "stdout",
     "output_type": "stream",
     "text": [
      "1 \n",
      "2 1 \n",
      "3 2 1 \n"
     ]
    }
   ],
   "source": [
    "# Q16: Write a python program to print the Following:\n",
    "# 1\n",
    "# 2  1\n",
    "# 3  2  1\n",
    "for i in range(1,4): #number of rows\n",
    "    for j in range(i):\n",
    "        print(i-j,end=\" \")\n",
    "    print()"
   ]
  },
  {
   "cell_type": "code",
   "execution_count": 53,
   "id": "66350f53-3e7b-4045-9c0d-db84d1d474ae",
   "metadata": {},
   "outputs": [
    {
     "name": "stdout",
     "output_type": "stream",
     "text": [
      "\n",
      "* \n",
      "* * \n",
      "* * * \n",
      "* * * * \n",
      "* * * * * \n",
      "* * * * * * \n"
     ]
    }
   ],
   "source": [
    "# Q17: WAP to print the following asterisk pattern:\n",
    "for i in range(7): #for rows\n",
    "    for j in range(i): # for columns\n",
    "        print(\"*\",end=\" \")\n",
    "    print()"
   ]
  },
  {
   "cell_type": "code",
   "execution_count": 54,
   "id": "1eb37c9f-3a1a-4579-9544-605a5c536fb1",
   "metadata": {},
   "outputs": [
    {
     "name": "stdout",
     "output_type": "stream",
     "text": [
      "\n",
      "* \n",
      "* * \n",
      "* * * \n",
      "* * * * \n",
      "* * * \n",
      "* * \n",
      "* \n",
      "\n"
     ]
    }
   ],
   "source": [
    "# Q18: WAP to create a function traiangle to print the following asterisk triangle pattern:\n",
    "for i in range(5):\n",
    "    for j in range(i):\n",
    "        print(\"*\",end=\" \")\n",
    "    print()\n",
    "for j in range(4):\n",
    "    for j in range(1,i-j):\n",
    "        print(\"*\",end=\" \")\n",
    "    print()"
   ]
  },
  {
   "cell_type": "code",
   "execution_count": 55,
   "id": "0529aa2d-14cf-4009-8070-d2791f00356c",
   "metadata": {},
   "outputs": [
    {
     "name": "stdout",
     "output_type": "stream",
     "text": [
      " 1 |1\t2\t3\t4\t5\t6\t7\t8\t9\t10\t\n",
      " 2 |2\t4\t6\t8\t10\t12\t14\t16\t18\t20\t\n",
      " 3 |3\t6\t9\t12\t15\t18\t21\t24\t27\t30\t\n",
      " 4 |4\t8\t12\t16\t20\t24\t28\t32\t36\t40\t\n",
      " 5 |5\t10\t15\t20\t25\t30\t35\t40\t45\t50\t\n",
      " 6 |6\t12\t18\t24\t30\t36\t42\t48\t54\t60\t\n",
      " 7 |7\t14\t21\t28\t35\t42\t49\t56\t63\t70\t\n",
      " 8 |8\t16\t24\t32\t40\t48\t56\t64\t72\t80\t\n",
      " 9 |9\t18\t27\t36\t45\t54\t63\t72\t81\t90\t\n",
      "10 |10\t20\t30\t40\t50\t60\t70\t80\t90\t100\t\n"
     ]
    }
   ],
   "source": [
    "# Q19: Write a python program to print following multiplication table on the screen\n",
    "for i in range(1,11):\n",
    "    if i <10:\n",
    "        print(\" \",end=\"\")\n",
    "    print(f\"{i} |\",end=\"\")\n",
    "    for j in range(1,11):\n",
    "        print(i*j,end=\"\\t\")\n",
    "    print()"
   ]
  },
  {
   "cell_type": "code",
   "execution_count": null,
   "id": "df1bf941-a75d-4fa0-8397-7f77a8342f69",
   "metadata": {},
   "outputs": [],
   "source": []
  }
 ],
 "metadata": {
  "kernelspec": {
   "display_name": "Python 3 (ipykernel)",
   "language": "python",
   "name": "python3"
  },
  "language_info": {
   "codemirror_mode": {
    "name": "ipython",
    "version": 3
   },
   "file_extension": ".py",
   "mimetype": "text/x-python",
   "name": "python",
   "nbconvert_exporter": "python",
   "pygments_lexer": "ipython3",
   "version": "3.12.6"
  }
 },
 "nbformat": 4,
 "nbformat_minor": 5
}
