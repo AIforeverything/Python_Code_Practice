{
 "cells": [
  {
   "cell_type": "code",
   "execution_count": 2,
   "id": "5fefe91b-c023-4cb2-8a7c-4f0caf8b39d9",
   "metadata": {},
   "outputs": [
    {
     "name": "stdin",
     "output_type": "stream",
     "text": [
      "Number of days to be subtracted:  15\n"
     ]
    },
    {
     "name": "stdout",
     "output_type": "stream",
     "text": [
      "date after subtracting 15 days is: 30-08-2024\n"
     ]
    }
   ],
   "source": [
    "# 1: Subtract a week ( 7 days)  from a given date in Python\n",
    "da=int(input(\"Number of days to be subtracted: \"))\n",
    "def subtractDays(d):\n",
    "    from datetime import datetime,timedelta\n",
    "    today=datetime.now()\n",
    "    deletingDays=timedelta(days=d)\n",
    "    dateAfterDeleting=(today-deletingDays).strftime(\"%d-%m-%Y\")\n",
    "    print(f\"date after subtracting {da} days is: {dateAfterDeleting}\")\n",
    "subtractDays(da)    "
   ]
  },
  {
   "cell_type": "code",
   "execution_count": 3,
   "id": "13863dbd-70c5-40b5-b73a-380ee32407e7",
   "metadata": {},
   "outputs": [
    {
     "name": "stdout",
     "output_type": "stream",
     "text": [
      "After Adding 7 days and 12 hours date with time: 2023-03-29 22:00:00\n"
     ]
    }
   ],
   "source": [
    "# 2: Add week ( 7 days) and 12 hours to a given date\n",
    "# Given:\n",
    "# # 2023-03-22 10:00:00\n",
    "# given_date = datetime(2023, 3, 22, 10, 0, 0)\n",
    "# Expected output:\n",
    "# 2023-03-29 22:00:00\n",
    "from datetime import datetime,timedelta\n",
    "date=datetime(2023, 3, 22, 10, 0, 0)\n",
    "AfterAdding=date+timedelta(days=7,hours=12)\n",
    "print(f\"After Adding 7 days and 12 hours date with time: {AfterAdding}\")"
   ]
  },
  {
   "cell_type": "code",
   "execution_count": 285,
   "id": "78f723da-4525-4aba-b7b6-ec6a873f07ce",
   "metadata": {},
   "outputs": [
    {
     "name": "stdin",
     "output_type": "stream",
     "text": [
      "Enter numbers of weeks to be added:  3\n"
     ]
    },
    {
     "name": "stdout",
     "output_type": "stream",
     "text": [
      "2024-09-21\n",
      "2024-09-28\n",
      "2024-10-05\n"
     ]
    }
   ],
   "source": [
    "# 3: Print ten dates, each two a week apart, starting from today, in the form YYYY-MM-DD\n",
    "def addingWeekApart(weeks):\n",
    "    from datetime import datetime,timedelta\n",
    "    t=datetime.now()\n",
    "    l=[7*i for i in range(1,weeks+1)]\n",
    "    for i in l:\n",
    "        AfterAdding7=t+timedelta(days=i)\n",
    "        print(AfterAdding7.strftime(\"%Y-%m-%d\"))\n",
    "weeks=int(input(\"Enter numbers of weeks to be added: \"))\n",
    "addingWeekApart(weeks)"
   ]
  },
  {
   "cell_type": "code",
   "execution_count": 287,
   "id": "a70f28ad-2123-4dd2-aba7-e077c2384ae8",
   "metadata": {},
   "outputs": [
    {
     "name": "stdout",
     "output_type": "stream",
     "text": [
      "205 days, 0:00:00\n",
      "None\n"
     ]
    }
   ],
   "source": [
    "# 4: Calculate number of days between two given dates\n",
    "# Given:\n",
    "# # 2020-02-25\n",
    "# date_1 = datetime(2020, 2, 25)\n",
    "# # 2020-09-17\n",
    "# date_2 = datetime(2020, 9, 17)\n",
    "# Expected output:\n",
    "# 205 days\n",
    "from datetime import datetime,timedelta\n",
    "date_1 = datetime(2020, 2, 25)\n",
    "date_2 = datetime(2020, 9, 17)\n",
    "daysDifference=print(date_2-date_1)\n",
    "print(daysDifference)"
   ]
  },
  {
   "cell_type": "code",
   "execution_count": 76,
   "id": "6c6e17ef-6a32-4190-b6e9-ec3266194263",
   "metadata": {},
   "outputs": [
    {
     "name": "stdout",
     "output_type": "stream",
     "text": [
      "a) Current date and time: 2024-09-14 11:30:13.935390\n",
      "b) Current year in full: 2024\n",
      "c) Month of year full name: September\n",
      "d) Weekday of the week: 6\n",
      "e) Day of the month : 14\n",
      "e) Day of week in full name : Saturday\n"
     ]
    }
   ],
   "source": [
    "# 5:  Write a Python script to display the \n",
    "# a) Current date and time\n",
    "# b) Current year in full\n",
    "# c) Month of year full name\n",
    "# d) Weekday of the week- ex: 5\n",
    "# e) Day of the month\n",
    "# f) Day of week in full name- ex: Friday\n",
    "from datetime import datetime\n",
    "todayDate=datetime.now()\n",
    "print(f\"a) Current date and time: {todayDate}\") \n",
    "print(f\"b) Current year in full: {todayDate.strftime('%Y')}\") \n",
    "print(f\"c) Month of year full name: {todayDate.strftime('%B')}\") \n",
    "print(f\"d) Weekday of the week: {todayDate.strftime('%w')}\") \n",
    "print(f\"e) Day of the month : {todayDate.strftime('%d')}\") \n",
    "print(f\"e) Day of week in full name : {todayDate.strftime('%A')}\") "
   ]
  },
  {
   "cell_type": "code",
   "execution_count": 116,
   "id": "e393cb0b-8142-4cd9-9690-990f80e0a270",
   "metadata": {},
   "outputs": [
    {
     "name": "stdout",
     "output_type": "stream",
     "text": [
      "2016-07-01 02:43:00\n"
     ]
    }
   ],
   "source": [
    "# 6: Python program to convert a string to datetime:\n",
    "# 'Jul 1 2016  2:43AM' into 2016-07-01 02:43:00\n",
    "from datetime import datetime\n",
    "dateGiven='Jul 1 2016  2:43AM'\n",
    "dateExtracted=datetime.strptime(dateGiven,'%b %d %Y  %I:%M%p')\n",
    "print(dateExtracted)"
   ]
  },
  {
   "cell_type": "code",
   "execution_count": 149,
   "id": "3068fec5-722b-40d0-a26f-aac83e841542",
   "metadata": {},
   "outputs": [
    {
     "name": "stdout",
     "output_type": "stream",
     "text": [
      "Date converted from given 2024/09/14 : 2024-09-14 00:00:00 \n",
      "Day of Year:  258\n"
     ]
    }
   ],
   "source": [
    "# 7: Python program to convert Year/Month/Day to Day of Year.\n",
    "from datetime import datetime\n",
    "date='2024/09/14'\n",
    "dateExtracted=datetime.strptime(date,'%Y/%m/%d')\n",
    "print(f\"Date converted from given {date} : {dateExtracted} \")\n",
    "days=dateExtracted.strftime(\"%j\")\n",
    "print(\"Day of Year: \",days)"
   ]
  },
  {
   "cell_type": "code",
   "execution_count": 188,
   "id": "17f129f5-58ff-493f-afd1-4c3d31e512b5",
   "metadata": {},
   "outputs": [
    {
     "name": "stdout",
     "output_type": "stream",
     "text": [
      "constructed instantiated.\n",
      "Number of sides of triangle is  3\n",
      "Sum of Angles is 180.\n",
      "Object is destructed.\n"
     ]
    }
   ],
   "source": [
    "# 8: Follow the steps:\n",
    "# •\tCreate a class, Triangle. Its __init__() method should take self, angle1, angle2, and angle3 as arguments. Make sure to set these appropriately in the body of the __init__()method.\n",
    "# •\tCreate a variable named number_of_sides and set it equal to 3.\n",
    "# •\tCreate a method named check_angles. The sum of a triangle's three angles is It should return True if the sum of self.angle1, self.angle2, and self.angle3 is equal 180, and False otherwise.\n",
    "# •\tCreate a variable named my_triangle and set it equal to a new instance of your Triangle class. Pass it three angles that sum to 180 (e.g. 90, 30, 60).\n",
    "# •\tPrint out my_triangle.number_of_sides and print out my_triangle.check_angles().\n",
    "class Triangle:\n",
    "    def __init__(self,angle1,angle2,angle3):\n",
    "        self.angle1=angle1\n",
    "        self.angle2=angle2\n",
    "        self.angle3=angle3\n",
    "        print(\"constructed instantiated.\")\n",
    "    number_of_sides=3    \n",
    "    def check_angles(self):\n",
    "        if(self.angle1+self.angle2+self.angle3==180):\n",
    "            print(\"Sum of Angles is 180.\")\n",
    "        else:\n",
    "            print(\"Sum of Angles is not 180.\")\n",
    "    def __del__(self):\n",
    "        print(\"Object is destructed.\")\n",
    "my_Triangle=Triangle(30,80,70)\n",
    "print(\"Number of sides of triangle is \",my_Triangle.number_of_sides)\n",
    "my_Triangle.check_angles()\n",
    "del my_Triangle        "
   ]
  },
  {
   "cell_type": "code",
   "execution_count": 207,
   "id": "8136919a-f02c-474b-9b2e-b2f7763d4e0f",
   "metadata": {},
   "outputs": [
    {
     "name": "stdout",
     "output_type": "stream",
     "text": [
      "given lyrics: ['May god bless you, ', 'Have a sunshine on you,', 'Happy Birthday to you !']\n",
      "May god bless you, \n",
      "Have a sunshine on you,\n",
      "Happy Birthday to you !\n",
      "None\n"
     ]
    }
   ],
   "source": [
    "# 9: Define a class called Songs, it will show the lyrics of a song. Its __init__() method should have two arguments:self and lyrics.lyricsis a list. Inside your class create a method called sing_me_a_song that prints each element of lyricson his own line. Define a varible:\n",
    "# happy_bday = Song([\"May god bless you, \",\n",
    "#                    \"Have a sunshine on you,\",\n",
    "#                    \"Happy Birthday to you !\"]) \n",
    "class Songs:\n",
    "    def __init__(self,lyrics):\n",
    "        self.lyrics=lyrics\n",
    "    def sing_me_a_song(self):\n",
    "        for i in self.lyrics:\n",
    "            print(i)\n",
    "lyrics1=[\"May god bless you, \",\"Have a sunshine on you,\",\"Happy Birthday to you !\"]            \n",
    "happy_bday = Songs(lyrics1)         \n",
    "print(f\"given lyrics: {happy_bday.lyrics}\")\n",
    "print(happy_bday.sing_me_a_song())"
   ]
  },
  {
   "cell_type": "code",
   "execution_count": 244,
   "id": "d215e7c7-e4ae-41f8-9245-914dc7958d17",
   "metadata": {},
   "outputs": [
    {
     "name": "stdout",
     "output_type": "stream",
     "text": [
      "Your choice: menu 1 , Price 12.00\n"
     ]
    }
   ],
   "source": [
    "# 10: Define a class called Lunch.Its __init__() method should have two arguments:selfanf menu.Where menu is a string. Add a method called menu_price.It will involve a ifstatement:\n",
    "# if \"menu 1\" print \"Your choice:\", menu, \"Price 12.00\", if \"menu 2\" print \"Your choice:\", menu, \"Price 13.40\", else print \"Error in menu\".\n",
    "# To check if it works define: Paul=Lunch(\"menu 1\") and call Paul.menu_price().\n",
    "class Lunch:\n",
    "    def __init__(self,menu):\n",
    "            self.menu =menu\n",
    "    def menu_price(self):\n",
    "        if(self.menu==\"menu 1\"):\n",
    "            print(\"Your choice:\", self.menu, \", Price 12.00\")\n",
    "        elif(self.menu==\"menu 2\"):\n",
    "            print(\"Your choice:\", self.menu, \", Price 13.40\")  \n",
    "        else:\n",
    "            print(\"Error in menu\")   \n",
    "Paul=Lunch(\"menu 1\")\n",
    "Paul.menu_price()"
   ]
  },
  {
   "cell_type": "code",
   "execution_count": 261,
   "id": "7ba9b11c-4e2b-4511-a475-02019317217b",
   "metadata": {},
   "outputs": [
    {
     "name": "stdin",
     "output_type": "stream",
     "text": [
      "Enter String:  how r u MAN\n"
     ]
    },
    {
     "name": "stdout",
     "output_type": "stream",
     "text": [
      "Upper case of entered string is: HOW R U MAN\n"
     ]
    }
   ],
   "source": [
    "# 11: Write a Python class which has two methods get_String and print_String. get_String accept a string from the user \n",
    "# and print_String print the string in upper case.\n",
    "class String_upper:\n",
    "    def get_String(self):\n",
    "        string=input(\"Enter String: \")\n",
    "        self.string=string\n",
    "        \n",
    "    def print_String(self):\n",
    "         print(f\"Upper case of entered string is: {self.string.upper()}\")\n",
    "s1=String_upper() \n",
    "s1.get_String()\n",
    "s1.print_String()"
   ]
  },
  {
   "cell_type": "code",
   "execution_count": 288,
   "id": "19e8c7f4-733e-4ff0-9d9d-93640c3667c5",
   "metadata": {},
   "outputs": [
    {
     "name": "stdin",
     "output_type": "stream",
     "text": [
      "Enter length of a Rectangle: 25\n",
      "Enter breadth of a Rectangle: 32\n"
     ]
    },
    {
     "name": "stdout",
     "output_type": "stream",
     "text": [
      "1.Area\n",
      "2.Perimeter\n",
      "3.exit\n"
     ]
    },
    {
     "name": "stdin",
     "output_type": "stream",
     "text": [
      "Enter choice:  1\n"
     ]
    },
    {
     "name": "stdout",
     "output_type": "stream",
     "text": [
      "Area of rectangle with length 25 and breadth 32 is 800.\n"
     ]
    }
   ],
   "source": [
    "# 12: Write a program to find the area and perimeter of a rectangle using classes and objects. Program output should be like this:\n",
    "class Rectangle:\n",
    "    def __init__(self):\n",
    "        length=int(input(\"Enter length of a Rectangle:\"))\n",
    "        breadth=int(input(\"Enter breadth of a Rectangle:\"))\n",
    "        c=[\"1.Area\",\"2.Perimeter\",\"3.exit\"]\n",
    "        for item in c:\n",
    "            print(item)\n",
    "        choice=int(input(\"Enter choice: \"))\n",
    "        self.length=length\n",
    "        self.breadth=breadth\n",
    "        self.choice=choice\n",
    "        while True:\n",
    "            if choice==1:\n",
    "                print(f\"Area of rectangle with length {self.length} and breadth {self.breadth} is {self.length * self.breadth}.\")\n",
    "                break\n",
    "            elif choice==2:\n",
    "                print(f\"Perimeter of rectangle with length {self.length} and breadth {self.breadth} is {2*(self.length+self.breadth)}.\")\n",
    "                break\n",
    "            elif choice==3:\n",
    "                print(\"Exit of the program.\")\n",
    "                break    \n",
    "r1=Rectangle()"
   ]
  },
  {
   "cell_type": "code",
   "execution_count": null,
   "id": "6be9e3c4-1075-480b-9edf-a4bca5a1ae11",
   "metadata": {},
   "outputs": [],
   "source": []
  }
 ],
 "metadata": {
  "kernelspec": {
   "display_name": "Python 3 (ipykernel)",
   "language": "python",
   "name": "python3"
  },
  "language_info": {
   "codemirror_mode": {
    "name": "ipython",
    "version": 3
   },
   "file_extension": ".py",
   "mimetype": "text/x-python",
   "name": "python",
   "nbconvert_exporter": "python",
   "pygments_lexer": "ipython3",
   "version": "3.12.6"
  }
 },
 "nbformat": 4,
 "nbformat_minor": 5
}
