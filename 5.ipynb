{
 "cells": [
  {
   "cell_type": "code",
   "execution_count": 1,
   "id": "ec5e2c1f-847f-45c1-ba73-2d060cbf49c1",
   "metadata": {},
   "outputs": [
    {
     "name": "stdin",
     "output_type": "stream",
     "text": [
      "Enter first number:  20\n",
      "Enter second number:  25\n",
      " Enter choice- \n",
      "                            1(add);\n",
      "                            2(subtract);\n",
      "                            3(multiplication);\n",
      "                            4(division) \n",
      "                            : 4\n"
     ]
    },
    {
     "name": "stdout",
     "output_type": "stream",
     "text": [
      "division: 0.8\n"
     ]
    }
   ],
   "source": [
    "# Q1: Write a Program to make a simple calculator that can add, subtract, \n",
    "# multiply and divide using functions \n",
    "first=float(input(\"Enter first number: \"))\n",
    "second=float(input(\"Enter second number: \"))\n",
    "def calculator(first,second):\n",
    "    if(second==0):\n",
    "        return \"second number shouldn't be zero\"\n",
    "    choice=int(input(''' Enter choice- \n",
    "                            1(add);\n",
    "                            2(subtract);\n",
    "                            3(multiplication);\n",
    "                            4(division) \n",
    "                            :'''))\n",
    "    match choice:\n",
    "        case 1:\n",
    "            print(f\"addition: {first+second}\")\n",
    "        case 2:\n",
    "            print(f\"subtraction: {first-second}\")\n",
    "        case 3:\n",
    "            print(f\"multiplication: {first*second}\")\n",
    "        case 4:\n",
    "            print(f\"division: {first/second}\")\n",
    "        case __:\n",
    "            print(f\"Exit\")    \n",
    "calculator(first,second)    "
   ]
  },
  {
   "cell_type": "code",
   "execution_count": 5,
   "id": "23a6d5b4-8eb7-4100-8119-717a9e9f41f2",
   "metadata": {},
   "outputs": [
    {
     "name": "stdin",
     "output_type": "stream",
     "text": [
      "Enter senence:  radar\n"
     ]
    },
    {
     "name": "stdout",
     "output_type": "stream",
     "text": [
      "!\"#$%&'()*+,-./:;<=>?@[\\]^_`{|}~\n",
      "Given sentence is palindrome\n"
     ]
    }
   ],
   "source": [
    "#  Q 2: Write a Function of version of a palindrome recognizer that also accepts phrase \n",
    "# palindromes such as \"Go hanga salami I'm a lasagna hog.\", \"Was it a rat I saw?\", \"Step on no pets\", \n",
    "# \"Sit on a potato pan, Otis\", \"LisaBonet ate no basil\",\"Satan, oscillate my metallic sonatas\", \n",
    "# \"I roamed under it as a tired nude Maori\",\"Rise to vote sir\", or the exclamation \n",
    "# \"Dammit, I'm mad!\". Note that punctuation, capitalization, andspacing are usually ignored.\n",
    "import string\n",
    "sentence=input(\"Enter senence: \")\n",
    "def sentPalindromeCheck(s):\n",
    "    s=s.upper()\n",
    "    # punctuations=\"\"\" !()-[]{};:'\"\\,<>./?@#$%^&*_~ \"\"\"\n",
    "    punctuations=string.punctuation\n",
    "    print(punctuations)\n",
    "    for i in s:\n",
    "        if i in punctuations:\n",
    "            s=s.replace(i,\"\")\n",
    "            s=s.replace(\" \",\"\")\n",
    "    s1=s[::-1]\n",
    "    if(s==s1):\n",
    "        print(\"Given sentence is palindrome\")\n",
    "    else:\n",
    "        print(\"Given sentence is not palindrome\")\n",
    "sentPalindromeCheck(sentence)"
   ]
  },
  {
   "cell_type": "code",
   "execution_count": 6,
   "id": "5da52230-e07f-4795-8d01-cf670aeda172",
   "metadata": {},
   "outputs": [
    {
     "name": "stdin",
     "output_type": "stream",
     "text": [
      "Enter senence:  The quick brown fox jumps over the lazy dog\n"
     ]
    },
    {
     "name": "stdout",
     "output_type": "stream",
     "text": [
      "Given sentence is a pangram\n"
     ]
    }
   ],
   "source": [
    "# Q3. A pangram is a sentence that contains all the letters of the English alphabet at least once, \n",
    "# forexample: The quick brown fox jumps over the lazy dog. Your task here is to write a function \n",
    "# to check asentence to see if it is a pangram or not.\n",
    "sentence=input(\"Enter senence: \")\n",
    "def pangramCheck(s):\n",
    "    s=s.upper()\n",
    "    alphabets=['A','B','C','D','E','F','G','H','I','J','K','L','M','N','O','P','Q','R','S','T','U','V','W','X','Y','Z']\n",
    "    for i in alphabets:\n",
    "        if i in s:\n",
    "           return 1\n",
    "        else:\n",
    "           return -1\n",
    "if(pangramCheck(sentence)!=-1):\n",
    "    print(\"Given sentence is a pangram\")\n",
    "else:\n",
    "    print(\"Given sentence is not a pangram\")"
   ]
  },
  {
   "cell_type": "code",
   "execution_count": 7,
   "id": "31bad032-d712-4092-98b0-b2373a0a5f83",
   "metadata": {},
   "outputs": [
    {
     "name": "stdout",
     "output_type": "stream",
     "text": [
      "common elements :  {3}\n",
      "At least one member is common.\n"
     ]
    }
   ],
   "source": [
    "# Q4. Define a function overlapping() that takes two lists and returns True if \n",
    "# they have at least onemember in common, False otherwise\n",
    "list1=[1,3,4,45,26]\n",
    "list2=[29,25,99,66,44,3]\n",
    "def overlapping(l1,l2):\n",
    "    l1=set(l1)\n",
    "    l2=set(l2)\n",
    "    if(l1&l2):\n",
    "        print(\"common elements : \",l1&l2)\n",
    "        print(\"At least one member is common.\")\n",
    "    else:\n",
    "        print(\"No member is common.\")    \n",
    "overlapping(list1,list2) "
   ]
  },
  {
   "cell_type": "code",
   "execution_count": 8,
   "id": "ea4abbc5-eef3-43e1-855a-1914a14aaf04",
   "metadata": {},
   "outputs": [
    {
     "name": "stdout",
     "output_type": "stream",
     "text": [
      "length of the Longest in the list: 10\n"
     ]
    }
   ],
   "source": [
    "# Q5. Write a function find_longest_word() that takes a list of words and returns the length of the\n",
    "# longest one.\n",
    "l=['apples','oranges','bananas','mangoes','grapes','strawberry']\n",
    "def find_longest_word(l):\n",
    "    for i in range(len(l)-1):\n",
    "        longest=len(list(l[i]))\n",
    "        if(len(list(l[i]))<len(list(l[i+1]))):\n",
    "            longest=len(list(l[i+1]))\n",
    "    print(f\"length of the Longest in the list: {longest}\")\n",
    "find_longest_word(l)  "
   ]
  },
  {
   "cell_type": "code",
   "execution_count": 9,
   "id": "c9713cff-3d13-4e08-91eb-922656b21123",
   "metadata": {},
   "outputs": [
    {
     "data": {
      "text/plain": [
       "34"
      ]
     },
     "execution_count": 9,
     "metadata": {},
     "output_type": "execute_result"
    }
   ],
   "source": [
    "# Q6: write a Program to display the Fibonacci sequence up to n-th term where n is provided by the user\n",
    "def fibonacci(n):\n",
    "    if(n<0):\n",
    "        return \"Incorrect number\"\n",
    "    elif(n==0):\n",
    "        return 0\n",
    "    elif n==1 or n==2:\n",
    "        return 1\n",
    "    else:\n",
    "        return fibonacci(n-2)+fibonacci(n-1)\n",
    "fibonacci(9)"
   ]
  },
  {
   "cell_type": "code",
   "execution_count": 12,
   "id": "1acb18c3-4708-43d7-8a85-8360d2561f8b",
   "metadata": {},
   "outputs": [
    {
     "name": "stdin",
     "output_type": "stream",
     "text": [
      "Enter number:  9\n"
     ]
    },
    {
     "name": "stdout",
     "output_type": "stream",
     "text": [
      "0 , 1 , 1 , 2 , 3 , 5 , 8 , 13 , 21 , 34\n"
     ]
    }
   ],
   "source": [
    "# Q6: write a Program to display the Fibonacci sequence up to n-th term where n is provided by the user\n",
    "n = int(input(\"Enter number: \"))\n",
    "num1 = 0\n",
    "num2 = 1\n",
    "next_number = num2  \n",
    "count = 1\n",
    "print(0,\",\",1,\",\",end=\" \")\n",
    "while count < n-1:\n",
    "    print(next_number,\",\",end=\" \")\n",
    "    count += 1\n",
    "    num1, num2 = num2, next_number\n",
    "    next_number = num1 + num2\n",
    "print(next_number)"
   ]
  },
  {
   "cell_type": "code",
   "execution_count": 14,
   "id": "23c27d57-a7dd-4999-8ca3-b788e9c36bcb",
   "metadata": {},
   "outputs": [
    {
     "name": "stdin",
     "output_type": "stream",
     "text": [
      "Enter number:  2\n",
      "Enter power:  3\n"
     ]
    },
    {
     "data": {
      "text/plain": [
       "8.0"
      ]
     },
     "execution_count": 14,
     "metadata": {},
     "output_type": "execute_result"
    }
   ],
   "source": [
    "# Q7: Write a Python Program to Display Powers of 2 Using Anonymous Function  \n",
    "# ( Lambda function). Take number of terms from user\n",
    "first=float(input(\"Enter number: \"))\n",
    "second=float(input(\"Enter power: \"))\n",
    "power= lambda a, b : a**b\n",
    "power(first,second)"
   ]
  },
  {
   "cell_type": "code",
   "execution_count": 15,
   "id": "f42b4351-ae28-4741-bf36-7fbda878da53",
   "metadata": {},
   "outputs": [
    {
     "name": "stdout",
     "output_type": "stream",
     "text": [
      "[13, 26, 39]\n"
     ]
    }
   ],
   "source": [
    "# Q8: Write a Python Program to find numbers divisible by thirteen from a list using anonymous function\n",
    "li=[13,23,45,26,33,88,39]\n",
    "div=list(filter(lambda x:(x%13==0),li))\n",
    "print(div)"
   ]
  },
  {
   "cell_type": "code",
   "execution_count": 16,
   "id": "398674bc-612d-447b-956c-ae526295ef07",
   "metadata": {},
   "outputs": [
    {
     "name": "stdin",
     "output_type": "stream",
     "text": [
      "Enter RED or YELLOW or GREEN only:  red\n"
     ]
    },
    {
     "name": "stdout",
     "output_type": "stream",
     "text": [
      "Your choice is RED.\n",
      "SPEED THRILLS BUT KILLS\n",
      "STOP, your life is precious\n"
     ]
    }
   ],
   "source": [
    "# Q9. Write a program that simulates a traffic light . The program should consist of the following:\n",
    "# 1. A user defined function trafficLight( ) that accepts input from the user, displays an error message if the user enters anything other than RED, YELLOW, and GREEN. \n",
    "# Function light() is called and following is displayed depending upon return value from light().\n",
    "# a) “STOP, your life is precious” if the value returned by light() is 0.\n",
    "# b) “Please WAIT, till the light is Green “ if the value returned by light() is 1\n",
    "# c) “GO! Thank you for being patient” if the value returned by light() is 2.\n",
    "\n",
    "# 2. A user defined function light() that accepts a string as input and returns 0 when the input is RED, \n",
    "# 1 when the input is YELLOW and 2 when the input is GREEN. The input should be passed as an argument.\n",
    "\n",
    "# 3. Display “ SPEED THRILLS BUT KILLS” after the function trafficLight( ) is executed.\n",
    "\n",
    "choice=input(\"Enter RED or YELLOW or GREEN only: \").upper()\n",
    "           \n",
    "def trafficLight(choice):\n",
    "    if (choice==\"RED\"):\n",
    "        print(f\"Your choice is {choice}.\")             \n",
    "    elif (choice==\"YELLOW\"):\n",
    "        print(f\"Your choice is {choice}.\")\n",
    "    elif (choice==\"GREEN\"):\n",
    "        print(f\"Your choice is {choice}.\")\n",
    "    else:\n",
    "        print(\"Invalid choice.\")\n",
    "    return(\"SPEED THRILLS BUT KILLS\")\n",
    "    \n",
    "def c(choice):\n",
    "        if (choice==\"RED\"):\n",
    "            return 0;\n",
    "        elif (choice==\"YELLOW\"):\n",
    "            return 1\n",
    "        elif (choice==\"GREEN\"):\n",
    "            return 2\n",
    "        else:\n",
    "            return (\"Invalid choice.\")\n",
    "             \n",
    "def light():\n",
    "    if (c(choice)==0):\n",
    "        return (\"STOP, your life is precious\")\n",
    "    elif (c(choice)==1):\n",
    "        return (\"Please WAIT, till the light is Green \" )\n",
    "    elif (c(choice)==2):\n",
    "         return (\"GO! Thank you for being patient \") \n",
    "    else:\n",
    "        return (\"Invalid choice.\")\n",
    "print(trafficLight(choice))\n",
    "\n",
    "print(light())"
   ]
  },
  {
   "cell_type": "code",
   "execution_count": 19,
   "id": "9f6ddafd-2334-4d15-91df-054bf834ff01",
   "metadata": {},
   "outputs": [
    {
     "name": "stdin",
     "output_type": "stream",
     "text": [
      "Enter series upto:  9\n"
     ]
    },
    {
     "name": "stdout",
     "output_type": "stream",
     "text": [
      "34\n",
      "[0, 1, 1, 2, 3, 5, 8, 13, 21, 34]\n"
     ]
    }
   ],
   "source": [
    "# Q10: Write a Python program to display the Fibonacci sequence up to n-th term by using recursive functions\n",
    "FibArray = [0, 1]\n",
    "n=int(input(\"Enter series upto: \"))\n",
    "def fibonacci(n):\n",
    "    if n < 0:\n",
    "        print(\"Incorrect input\")\n",
    "    elif n < len(FibArray):\n",
    "        return FibArray[n]\n",
    "    else:        \n",
    "        FibArray.append(fibonacci(n - 1) + fibonacci(n - 2))  \n",
    "        return FibArray[n]\n",
    "print(fibonacci(n))\n",
    "print(FibArray)"
   ]
  },
  {
   "cell_type": "code",
   "execution_count": 20,
   "id": "6e28631c-61aa-453d-bbc3-a50313292a57",
   "metadata": {},
   "outputs": [
    {
     "name": "stdin",
     "output_type": "stream",
     "text": [
      "Enter number:  5\n"
     ]
    },
    {
     "data": {
      "text/plain": [
       "15"
      ]
     },
     "execution_count": 20,
     "metadata": {},
     "output_type": "execute_result"
    }
   ],
   "source": [
    "# Q11: Write a Python program to find the sum of natural numbers up to n using recursive function\n",
    "def sumNat(n):\n",
    "    if n<0:\n",
    "        return \"invalid\"\n",
    "    elif n==1:\n",
    "        return 1 \n",
    "    return n+sumNat(n-1)   \n",
    "\n",
    "num=int(input(\"Enter number: \"))\n",
    "sumNat(num)"
   ]
  },
  {
   "cell_type": "code",
   "execution_count": null,
   "id": "41d2e317-7789-4364-a220-d9c529c39622",
   "metadata": {},
   "outputs": [],
   "source": []
  }
 ],
 "metadata": {
  "kernelspec": {
   "display_name": "Python 3 (ipykernel)",
   "language": "python",
   "name": "python3"
  },
  "language_info": {
   "codemirror_mode": {
    "name": "ipython",
    "version": 3
   },
   "file_extension": ".py",
   "mimetype": "text/x-python",
   "name": "python",
   "nbconvert_exporter": "python",
   "pygments_lexer": "ipython3",
   "version": "3.12.6"
  }
 },
 "nbformat": 4,
 "nbformat_minor": 5
}
