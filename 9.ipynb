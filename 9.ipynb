{
 "cells": [
  {
   "cell_type": "code",
   "execution_count": 1,
   "id": "bfdf6336-4fe1-407e-8703-b2d0638f14b6",
   "metadata": {},
   "outputs": [
    {
     "name": "stdin",
     "output_type": "stream",
     "text": [
      "Do you want to enter customer details (Y/N) :  y\n"
     ]
    },
    {
     "name": "stdout",
     "output_type": "stream",
     "text": [
      "\n",
      "                1.\tNew customer\n",
      "                2.\tDeposit\n",
      "                3.\tWithdrawal\n",
      "                4.\tDisplay\n",
      "                5.\tExit\n",
      "                \n"
     ]
    },
    {
     "name": "stdin",
     "output_type": "stream",
     "text": [
      "Enter choice:  1\n",
      "New Customer: Enter assign account number:  1\n",
      "New Customer: Enter Customer name:  o\n",
      "New Customer: Enter account type such as SB or CA:  s\n",
      "Do you want to enter customer details (Y/N) :  y\n"
     ]
    },
    {
     "name": "stdout",
     "output_type": "stream",
     "text": [
      "\n",
      "                1.\tNew customer\n",
      "                2.\tDeposit\n",
      "                3.\tWithdrawal\n",
      "                4.\tDisplay\n",
      "                5.\tExit\n",
      "                \n"
     ]
    },
    {
     "name": "stdin",
     "output_type": "stream",
     "text": [
      "Enter choice:  2\n",
      "Enter account number:  1\n",
      "Enter deposit amount:  10\n",
      "Do you want to enter customer details (Y/N) :  y\n"
     ]
    },
    {
     "name": "stdout",
     "output_type": "stream",
     "text": [
      "\n",
      "                1.\tNew customer\n",
      "                2.\tDeposit\n",
      "                3.\tWithdrawal\n",
      "                4.\tDisplay\n",
      "                5.\tExit\n",
      "                \n"
     ]
    },
    {
     "name": "stdin",
     "output_type": "stream",
     "text": [
      "Enter choice:  3\n",
      "Enter account number:  1\n",
      "Enter deposit amount:  5\n"
     ]
    },
    {
     "name": "stdout",
     "output_type": "stream",
     "text": [
      "Balance is :  5.0\n"
     ]
    },
    {
     "name": "stdin",
     "output_type": "stream",
     "text": [
      "Do you want to enter customer details (Y/N) :  n\n"
     ]
    },
    {
     "name": "stdout",
     "output_type": "stream",
     "text": [
      "Customer accounts: in the order of Account number,name,account type,balance {'1': ['o', 's', 5.0]}\n"
     ]
    }
   ],
   "source": [
    "# 1.\tDefine a class to represent a bank account. Include the following members: \n",
    "# Data Members:\n",
    "# a.Name of the Depositor\n",
    "# b.Account Number\n",
    "# c.Type of Account\n",
    "# d.Balance amount in the account\n",
    "# Data Methods:\n",
    "# a.To assign initial values\n",
    "# b.To deposit an amount\n",
    "# c.To withdraw an amount\n",
    "# d.To display name and balance.\n",
    "# Output:\n",
    "# 1.\tNew customer\n",
    "# 2.\tDeposit\n",
    "# 3.\tWithdrawal\n",
    "# 4.\tDisplay\n",
    "# 5.\tExit\n",
    "\n",
    "class BankAccount: \n",
    "    def customerMethods(self):\n",
    "        self.Customer={}\n",
    "        while True:\n",
    "            choice=input(\"Do you want to enter customer details (Y/N) : \").upper()\n",
    "            if(choice=='Y'):\n",
    "                print('''\n",
    "                1.\tNew customer\n",
    "                2.\tDeposit\n",
    "                3.\tWithdrawal\n",
    "                4.\tDisplay\n",
    "                5.\tExit\n",
    "                ''')\n",
    "                choice=int(input(\"Enter choice: \"))\n",
    "                match choice:\n",
    "                    case 1:\n",
    "                        self.AccountNumber= input(\"New Customer: Enter assign account number: \")\n",
    "                        self.Name= input(\"New Customer: Enter Customer name: \")\n",
    "                        self.TypeofAccount= input(\"New Customer: Enter account type such as SB or CA: \")\n",
    "                        self.Balance=0\n",
    "                        self.Customer[self.AccountNumber]=[self.Name,self.TypeofAccount,self.Balance]  \n",
    "                    case 2:\n",
    "                        AccountNumber=input(\"Enter account number: \")\n",
    "                        if(AccountNumber in self.Customer.keys()):\n",
    "                            d= float(input(\"Enter deposit amount: \"))\n",
    "                            self.Customer[self.AccountNumber][2]=d\n",
    "                        else:\n",
    "                            print(\"Customer account number is invalid.\")\n",
    "                    case 3:\n",
    "                        AccountNumber=input(\"Enter account number: \")\n",
    "                        if(AccountNumber in self.Customer.keys()):\n",
    "                            self.Withdrawal= float(input(\"Enter withdraw amount: \"))\n",
    "                            if (self.Withdrawal<=self.Customer[self.AccountNumber][2]):\n",
    "                                self.Customer[self.AccountNumber][2]=self.Customer[self.AccountNumber][2]-self.Withdrawal\n",
    "                                print(\"Balance is : \",self.Customer[self.AccountNumber][2])\n",
    "                            else:\n",
    "                                print(\"You can not withdraw more than balance.\")\n",
    "                        else:\n",
    "                            print(\"Customer account number is invalid.\")     \n",
    "                    case 4:\n",
    "                       print(\"Customer accounts: in the order of Account number,name,account type,balance\",self.Customer)\n",
    "                    case 5:\n",
    "                        print(\"Exited.\")         \n",
    "            else:\n",
    "                break\n",
    "\n",
    "        print(\"Customer accounts: in the order of Account number,name,account type,balance\",self.Customer)\n",
    "a1=BankAccount()\n",
    "a1.customerMethods()"
   ]
  },
  {
   "cell_type": "code",
   "execution_count": 1,
   "id": "6e0a1a63-2bef-470a-bee8-ec7e9048ed85",
   "metadata": {},
   "outputs": [],
   "source": [
    "# 2.\tCreate a menu-driven program that allows users to interact with different functionalities related to classes and objects. \n",
    "# The example should include a simple system to manage a library, where you can add books, view books, and search for books. \n",
    "# Illustrate the use of classes, objects, and user-driven menus as shown below.                                  \n",
    "# Classes and Methods will be as follows:\n",
    "# Book Class:  should Represents a book with title, author, and year attributes. The __str__ method provides a string representation for easy printing.\n",
    "# Library Class: Manages a list of Book objects. It includes methods to add a book (add_book), view all books (view_books), and search for a book by title (search_book).\n",
    "# Menu Functionality will be as follows:\n",
    "# print_menu Function: Prints the menu options for user interaction.\n",
    "# main Function: Runs the menu-driven program loop. It prompts the user to make a choice and performs the corresponding action (add, view, search, or exit).\n",
    "# User Interaction will be as follows:\n",
    "# The program interacts with the user through the console. It handles book additions, views, and searches based on user input\n",
    "# Class representing a book\n",
    "class Book:\n",
    "    def __init__(self, title, author, year):\n",
    "        self.title = title\n",
    "        self.author = author\n",
    "        self.year = year\n",
    "\n",
    "    # String representation of the book for easy printing\n",
    "    def __str__(self):\n",
    "        return f\"'{self.title}' by {self.author} ({self.year}) \"\n",
    "\n",
    "\n",
    "# Class representing a library, which manages a collection of books\n",
    "class Library:\n",
    "    def __init__(self):\n",
    "        self.books = []\n",
    "        \n",
    "    # Method to add a new book to the library\n",
    "    def add_book(self, book):\n",
    "        self.books.append(book)\n",
    "        print(f\"Book '{book.title}' added to the library.\")\n",
    "\n",
    "    # Method to view all books in the library\n",
    "    def view_books(self):\n",
    "        if not self.books:\n",
    "            print(\"No books in the library.\")\n",
    "        else:\n",
    "            print(\"\\nBooks available in the library:\")\n",
    "            for idx, book in enumerate(self.books, 1):\n",
    "                print(f\"{idx}. {book}\")\n",
    "    \n",
    "    # Method to search for a book by title\n",
    "    def search_book(self, title):\n",
    "        found_books = [book for book in self.books if title.lower() in book.title.lower()]\n",
    "        if found_books:\n",
    "            print(\"\\nSearch Results:\")\n",
    "            for book in found_books:\n",
    "                print(book)\n",
    "        else:\n",
    "            print(f\"No books found with the title containing '{title}'.\")\n",
    "\n",
    "\n",
    "# Function to print the menu options for user interaction\n",
    "def print_menu():\n",
    "    print(\"\\nLibrary Menu:\")\n",
    "    print(\"1. Add a Book\")\n",
    "    print(\"2. View All Books\")\n",
    "    print(\"3. Search for a Book by Title\")\n",
    "    print(\"4. Exit\")\n",
    "\n",
    "\n",
    "# Main function to run the menu-driven program\n",
    "def main():\n",
    "    library = Library()\n",
    "\n",
    "    while True:\n",
    "        print_menu()\n",
    "        choice = input(\"Choose an option: \")\n",
    "\n",
    "        if choice == '1':\n",
    "            title = input(\"Enter the book title: \")\n",
    "            author = input(\"Enter the author: \")\n",
    "            year = input(\"Enter the year of publication: \")\n",
    "            new_book = Book(title, author, year)\n",
    "            library.add_book(new_book)\n",
    "\n",
    "        elif choice == '2':\n",
    "            library.view_books()\n",
    "\n",
    "        elif choice == '3':\n",
    "            search_title = input(\"Enter the title or part of the title to search: \")\n",
    "            library.search_book(search_title)\n",
    "\n",
    "        elif choice == '4':\n",
    "            print(\"Exiting the program.\")\n",
    "            break\n",
    "\n",
    "        else:\n",
    "            print(\"Invalid option. Please choose again.\")\n",
    "\n",
    "\n",
    "# Start the program\n",
    "if __name__ == \"_main_\":\n",
    "    main()"
   ]
  },
  {
   "cell_type": "code",
   "execution_count": 2,
   "id": "e94066dd-5b8b-4803-81e7-034b97a7fe54",
   "metadata": {},
   "outputs": [
    {
     "name": "stdout",
     "output_type": "stream",
     "text": [
      "Library Menu:\n",
      "            1. Add a Book\n",
      "            2. View All Books\n",
      "            3. Search for a Book by Title\n",
      "            4. Exit\n",
      "            \n"
     ]
    },
    {
     "name": "stdin",
     "output_type": "stream",
     "text": [
      "Enter choice:  1\n",
      "Enter title of the book:  1\n",
      "Enter author of the book:  2\n",
      "Enter year of the book:  3\n"
     ]
    },
    {
     "name": "stdout",
     "output_type": "stream",
     "text": [
      " Book '1' is added to library.\n",
      "Library Menu:\n",
      "            1. Add a Book\n",
      "            2. View All Books\n",
      "            3. Search for a Book by Title\n",
      "            4. Exit\n",
      "            \n"
     ]
    },
    {
     "name": "stdin",
     "output_type": "stream",
     "text": [
      "Enter choice:  2\n"
     ]
    },
    {
     "name": "stdout",
     "output_type": "stream",
     "text": [
      "Books in library: \n",
      "1. '1': author is 2,3.\n",
      "Library Menu:\n",
      "            1. Add a Book\n",
      "            2. View All Books\n",
      "            3. Search for a Book by Title\n",
      "            4. Exit\n",
      "            \n"
     ]
    },
    {
     "name": "stdin",
     "output_type": "stream",
     "text": [
      "Enter choice:  4\n"
     ]
    },
    {
     "name": "stdout",
     "output_type": "stream",
     "text": [
      "Exiting the program.\n"
     ]
    }
   ],
   "source": [
    "class BookDetails:\n",
    "    ''' making the BookDetails class with objects to send as a input to Library class as an object'''\n",
    "    def __init__(self,title,author,year):\n",
    "        self.title=title\n",
    "        self.author=author\n",
    "        self.year=year\n",
    "\n",
    "    '''string representation of an object for easy printing\n",
    "    The __str__() dunder method returns a reader-friendly string representation of a class object. \n",
    "    It can be called with the built-in str() and print() functions'''\n",
    "    \n",
    "    def __str__(self):\n",
    "        return f\" '{self.title}': author is {self.author},{self.year}.\"\n",
    "\n",
    "class Library:\n",
    "    def __init__(self):\n",
    "        self.libraryBooks=[] #This list object is used to prepare library books list\n",
    "\n",
    "    #method to add new book to library\n",
    "    def addBooksToLibraryBooksList(self,b):\n",
    "        # Here b is the object of the BookDetails class which is passed as an argument here and added to library list\n",
    "        self.libraryBooks.append(b)\n",
    "        print(f\" Book '{b.title}' is added to library.\")\n",
    "\n",
    "    #method to view all books in library\n",
    "    def methodToViewBooks(self):\n",
    "        if not self.libraryBooks:\n",
    "            print(\"Library is empty.\")\n",
    "        else:\n",
    "            print(\"Books in library: \")\n",
    "            for index,bookName in enumerate(self.libraryBooks,1):\n",
    "                print(f\"{index}.{bookName}\")\n",
    "\n",
    "    #method to search for a book by title\n",
    "    def search_book(self,t):\n",
    "        book_found=[book for book in self.libraryBooks if t.lower() in book.title.lower()]\n",
    "\n",
    "        if book_found:\n",
    "            print(\"Book is found.\")\n",
    "            for book in book_found:\n",
    "                print(book)\n",
    "        else:\n",
    "            print(f\"Not found with title '{t}'\")\n",
    "\n",
    "# menu options function\n",
    "\n",
    "def menu():\n",
    "    print('''Library Menu:\n",
    "            1. Add a Book\n",
    "            2. View All Books\n",
    "            3. Search for a Book by Title\n",
    "            4. Exit\n",
    "            ''')\n",
    "# main function to run the menu driven program\n",
    "\n",
    "def main():\n",
    "    library=Library() #library object is invoked\n",
    "    while True:\n",
    "        menu()\n",
    "        choice=int(input(\"Enter choice: \"))\n",
    "        match choice:\n",
    "            case 1:\n",
    "                ti=input(\"Enter title of the book: \")\n",
    "                au=input(\"Enter author of the book: \")\n",
    "                y=input(\"Enter year of the book: \")\n",
    "\n",
    "                new_book=BookDetails(ti,au,y) #object of the BookDetails class is instantiated\n",
    "                library.addBooksToLibraryBooksList(new_book) #object of the BookDetails class i.e., new_book is passed an argument to library method\n",
    "\n",
    "            case 2:\n",
    "                library.methodToViewBooks()\n",
    "\n",
    "            case 3:\n",
    "                titleOfBook=input(\"Enter title of the book to be searched.\")\n",
    "                library.search_book(titleOfBook)\n",
    "            case 4:\n",
    "                print(\"Exiting the program.\")\n",
    "                break\n",
    "            case __:\n",
    "                print(\"Invalid choice.\")\n",
    "\n",
    "\n",
    "#to start the program\n",
    "if __name__==\"__main__\":\n",
    "    main()\n",
    "\n"
   ]
  },
  {
   "cell_type": "code",
   "execution_count": 22,
   "id": "aa664a86-8c28-45d1-a40e-91ec2f83e6c8",
   "metadata": {},
   "outputs": [
    {
     "name": "stdout",
     "output_type": "stream",
     "text": [
      "Account class is invoked through Employee child class.\n"
     ]
    },
    {
     "name": "stdin",
     "output_type": "stream",
     "text": [
      "Enter pay:  25000\n"
     ]
    },
    {
     "name": "stdout",
     "output_type": "stream",
     "text": [
      "Person class is invoked through Admin child class.\n"
     ]
    },
    {
     "name": "stdin",
     "output_type": "stream",
     "text": [
      "enter name:  om\n",
      "Enter code :  25\n"
     ]
    },
    {
     "name": "stdout",
     "output_type": "stream",
     "text": [
      "Admin class is invoked through Employee child class.\n"
     ]
    },
    {
     "name": "stdin",
     "output_type": "stream",
     "text": [
      "Enter experience :  3.6\n"
     ]
    },
    {
     "name": "stdout",
     "output_type": "stream",
     "text": [
      "name is:om\n",
      " code is 25\n",
      " experience is 3.6\n",
      " pay is 25000.\n"
     ]
    }
   ],
   "source": [
    "# 4. Write a program to implement following. \n",
    "# Create a base class named person consisting of name and code. Create 2 child classes\n",
    "# a)\tAccount with member_pay\n",
    "# b)\tAdmin with experience and inherit the base class.\n",
    "\n",
    "# Create a class employee with name, code, experience and pay by inheriting the above classes. \n",
    "\n",
    "class Person:\n",
    "    def __init__(self,name,code): \n",
    "        name=input(\"enter name: \")\n",
    "        code=int(input(\"Enter code : \"))\n",
    "        self.name=name\n",
    "        self.code=code \n",
    "        \n",
    "class Account(Person):\n",
    "    def __init__(self,pay):\n",
    "        print(\"Account class is invoked through Employee child class.\")\n",
    "        pay=input(\"Enter pay: \")\n",
    "        self.pay=pay\n",
    "        print(\"Person class is invoked through Admin child class.\")\n",
    "        Person.__init__(self,'name','code')\n",
    "        \n",
    "class Admin(Person):\n",
    "    def __init__(self,experience):\n",
    "        print(\"Admin class is invoked through Employee child class.\")\n",
    "        experience=input(\"Enter experience : \")\n",
    "        self.experience=experience \n",
    "        \n",
    "class Employee(Account,Admin):\n",
    "    def __init__(self):\n",
    "        Account.__init__(self,'pay')\n",
    "        Admin.__init__(self,'experience')\n",
    "def main():\n",
    "    e1=Employee()\n",
    "    print(f\"name is:{e1.name}\\n code is {e1.code}\\n experience is {e1.experience}\\n pay is {e1.pay}.\")\n",
    "\n",
    "main()"
   ]
  },
  {
   "cell_type": "code",
   "execution_count": null,
   "id": "6555099a-d51f-4410-99b8-db37f4052d62",
   "metadata": {},
   "outputs": [
    {
     "name": "stdout",
     "output_type": "stream",
     "text": [
      "   \n",
      "                1.Teacher\n",
      "                2.Officer,\n",
      "                3.Regular Typist\n",
      "                4.Casaul typist\n",
      "                5.Exit\n",
      "           \n"
     ]
    },
    {
     "name": "stdin",
     "output_type": "stream",
     "text": [
      "Enter Choice:  1\n",
      "Enter subject:  phy\n",
      "Enter publications:  5\n",
      "Enter code:  25\n",
      "Enter name:  om\n"
     ]
    },
    {
     "name": "stdout",
     "output_type": "stream",
     "text": [
      "\n",
      "Teacher details:\n",
      "Code is 25\n",
      "name is om\n",
      "subject is phy\n",
      "publications is 5.\n",
      "   \n",
      "                1.Teacher\n",
      "                2.Officer,\n",
      "                3.Regular Typist\n",
      "                4.Casaul typist\n",
      "                5.Exit\n",
      "           \n"
     ]
    }
   ],
   "source": [
    "## 5. Write program to create a base class staff with code and name. Derive classes teacher(subject , publication) , typist (speed) , officer (grade) . \n",
    "# Using the typist class as base class,create two classes regular(salary) and  casual(daily wages).\n",
    "# Implement a menu driven program for the same.\n",
    "# Output:\n",
    "# 1.\tTeacher\n",
    "# 2.\tOfficer,\n",
    "# 3.\tRegular Typist\n",
    "# 4.\tCasaul typist\n",
    "# 5.\tExit\n",
    "\n",
    "class staff:\n",
    "    def __init__(self,code,name):\n",
    "        self.code=code\n",
    "        self.name=name\n",
    "        \n",
    "class teacher(staff):\n",
    "    def __init__(self,subject,publication):\n",
    "        self.subject=subject\n",
    "        self.publication=publication\n",
    "        def __str__(self):\n",
    "                    return f\"Teacher details\\n: Code is {self.code}\\nname is {self.name}\\nsubject is {self.subject}\\npublications is {self.publication}.\"\n",
    "\n",
    "class typist(staff):\n",
    "    def __init__(self,speed):\n",
    "        self.speed=speed\n",
    "\n",
    "class officer(staff):\n",
    "    def __init__(self,grade):\n",
    "        self.grade=grade\n",
    "\n",
    "class regular(typist):\n",
    "    def __init__(self,salary):\n",
    "        self.salary=salary\n",
    "\n",
    "class casual(typist):\n",
    "    def __init__(self,dailyWages):\n",
    "        self.dailyWages=dailyWages\n",
    "\n",
    "def menu():\n",
    "    print('''   \n",
    "                1.Teacher\n",
    "                2.Officer,\n",
    "                3.Regular Typist\n",
    "                4.Casaul typist\n",
    "                5.Exit\n",
    "           ''')  \n",
    "    \n",
    "def main():\n",
    "    while True:\n",
    "         menu()\n",
    "         choice=int(input(\"Enter Choice: \"))\n",
    "         match choice:\n",
    "            case 1:\n",
    "                subject=input(\"Enter subject: \")\n",
    "                publication=input(\"Enter publications: \")\n",
    "                code=input(\"Enter code: \")\n",
    "                name=input(\"Enter name: \")\n",
    "    \n",
    "                t=teacher(subject,publication)\n",
    "                t.code=code\n",
    "                t.name=name\n",
    "                print(f\"\\nTeacher details:\\nCode is {t.code}\\nname is {t.name}\\nsubject is {t.subject}\\npublications is {t.publication}.\")\n",
    "            case 2:\n",
    "                grade=input(\"Enter grade: \")\n",
    "                code=input(\"Enter code: \")\n",
    "                name=input(\"Enter name: \")\n",
    "                \n",
    "                o=officer(grade)\n",
    "                o.code=code\n",
    "                o.name=name\n",
    "                print(f\"\\nofficer details:\\nCode is {o.code}\\nname is {o.name}\\ngrade is {o.grade}.\")\n",
    "\n",
    "            case 3:\n",
    "                code=input(\"Enter code: \")\n",
    "                name=input(\"Enter name: \")  \n",
    "                speed=float(input(\"enter speed: \"))\n",
    "\n",
    "                rt=regular(speed) \n",
    "                rt.speed=int(input(\"enter speed: \"))\n",
    "                rt.code=code\n",
    "                rt.name=name\n",
    "                print(f\"\\nregularTypist details:\\nCode is {rt.code}\\nname is {rt.name}\\nspeed is {rt.speed}\\nsalary is {rt.salary}.\")\n",
    "                \n",
    "            case 4:\n",
    "                code=input(\"Enter code: \")\n",
    "                name=input(\"Enter name: \")   \n",
    "                dailyWages=float(input(\"enter dailyWages: \"))\n",
    "                \n",
    "                ct=casual(dailyWages) \n",
    "                ct.speed=int(input(\"enter speed: \"))\n",
    "                ct.code=code\n",
    "                ct.name=name\n",
    "                print(f\"\\ncasualTypist details:\\nCode is {ct.code}\\nname is {ct.name}\\nspeed is {ct.speed}\\ndailyWages is {ct.dailyWages}.\")\n",
    "            case 5:\n",
    "                print(\"Exiting\")\n",
    "                break\n",
    "            case __:\n",
    "                 break\n",
    "                \n",
    "main()        \n",
    "\n",
    "        "
   ]
  },
  {
   "cell_type": "code",
   "execution_count": null,
   "id": "17e3375e-e5b9-4c8a-8b1c-0266ef6dcf74",
   "metadata": {},
   "outputs": [],
   "source": []
  }
 ],
 "metadata": {
  "kernelspec": {
   "display_name": "Python 3 (ipykernel)",
   "language": "python",
   "name": "python3"
  },
  "language_info": {
   "codemirror_mode": {
    "name": "ipython",
    "version": 3
   },
   "file_extension": ".py",
   "mimetype": "text/x-python",
   "name": "python",
   "nbconvert_exporter": "python",
   "pygments_lexer": "ipython3",
   "version": "3.12.6"
  }
 },
 "nbformat": 4,
 "nbformat_minor": 5
}
